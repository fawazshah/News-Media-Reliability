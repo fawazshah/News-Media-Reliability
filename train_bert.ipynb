{
 "nbformat": 4,
 "nbformat_minor": 0,
 "metadata": {
  "colab": {
   "name": "train_bert.ipynb",
   "provenance": [],
   "toc_visible": true,
   "machine_shape": "hm",
   "authorship_tag": "ABX9TyNejj5RdjfqBa3aepZgTuZF",
   "include_colab_link": true
  },
  "kernelspec": {
   "name": "python3",
   "display_name": "Python 3"
  },
  "accelerator": "GPU",
  "widgets": {
   "application/vnd.jupyter.widget-state+json": {
    "3a9376c4cbd54a8baca5b67eed2d9524": {
     "model_module": "@jupyter-widgets/controls",
     "model_name": "HBoxModel",
     "state": {
      "_view_name": "HBoxView",
      "_dom_classes": [],
      "_model_name": "HBoxModel",
      "_view_module": "@jupyter-widgets/controls",
      "_model_module_version": "1.5.0",
      "_view_count": null,
      "_view_module_version": "1.5.0",
      "box_style": "",
      "layout": "IPY_MODEL_846c43d565f7460a840bef7141681e68",
      "_model_module": "@jupyter-widgets/controls",
      "children": [
       "IPY_MODEL_0df709b351e140b6acbc3950716bbcc6",
       "IPY_MODEL_b123b079c65b41f0a423cc5a330bd55b"
      ]
     }
    },
    "846c43d565f7460a840bef7141681e68": {
     "model_module": "@jupyter-widgets/base",
     "model_name": "LayoutModel",
     "state": {
      "_view_name": "LayoutView",
      "grid_template_rows": null,
      "right": null,
      "justify_content": null,
      "_view_module": "@jupyter-widgets/base",
      "overflow": null,
      "_model_module_version": "1.2.0",
      "_view_count": null,
      "flex_flow": null,
      "width": null,
      "min_width": null,
      "border": null,
      "align_items": null,
      "bottom": null,
      "_model_module": "@jupyter-widgets/base",
      "top": null,
      "grid_column": null,
      "overflow_y": null,
      "overflow_x": null,
      "grid_auto_flow": null,
      "grid_area": null,
      "grid_template_columns": null,
      "flex": null,
      "_model_name": "LayoutModel",
      "justify_items": null,
      "grid_row": null,
      "max_height": null,
      "align_content": null,
      "visibility": null,
      "align_self": null,
      "height": null,
      "min_height": null,
      "padding": null,
      "grid_auto_rows": null,
      "grid_gap": null,
      "max_width": null,
      "order": null,
      "_view_module_version": "1.2.0",
      "grid_template_areas": null,
      "object_position": null,
      "object_fit": null,
      "grid_auto_columns": null,
      "margin": null,
      "display": null,
      "left": null
     }
    },
    "0df709b351e140b6acbc3950716bbcc6": {
     "model_module": "@jupyter-widgets/controls",
     "model_name": "FloatProgressModel",
     "state": {
      "_view_name": "ProgressView",
      "style": "IPY_MODEL_7b3425c616d444409011eb3893d94363",
      "_dom_classes": [],
      "description": "Downloading: 100%",
      "_model_name": "FloatProgressModel",
      "bar_style": "success",
      "max": 231508,
      "_view_module": "@jupyter-widgets/controls",
      "_model_module_version": "1.5.0",
      "value": 231508,
      "_view_count": null,
      "_view_module_version": "1.5.0",
      "orientation": "horizontal",
      "min": 0,
      "description_tooltip": null,
      "_model_module": "@jupyter-widgets/controls",
      "layout": "IPY_MODEL_4bc4c57bcd24479fa96fe611ebeeff0e"
     }
    },
    "b123b079c65b41f0a423cc5a330bd55b": {
     "model_module": "@jupyter-widgets/controls",
     "model_name": "HTMLModel",
     "state": {
      "_view_name": "HTMLView",
      "style": "IPY_MODEL_5c0b6e3310bf49bcb325ca8b1479fc83",
      "_dom_classes": [],
      "description": "",
      "_model_name": "HTMLModel",
      "placeholder": "​",
      "_view_module": "@jupyter-widgets/controls",
      "_model_module_version": "1.5.0",
      "value": " 232k/232k [00:01&lt;00:00, 163kB/s]",
      "_view_count": null,
      "_view_module_version": "1.5.0",
      "description_tooltip": null,
      "_model_module": "@jupyter-widgets/controls",
      "layout": "IPY_MODEL_3b3f1f8dca8c4922b2edeef5598625e9"
     }
    },
    "7b3425c616d444409011eb3893d94363": {
     "model_module": "@jupyter-widgets/controls",
     "model_name": "ProgressStyleModel",
     "state": {
      "_view_name": "StyleView",
      "_model_name": "ProgressStyleModel",
      "description_width": "initial",
      "_view_module": "@jupyter-widgets/base",
      "_model_module_version": "1.5.0",
      "_view_count": null,
      "_view_module_version": "1.2.0",
      "bar_color": null,
      "_model_module": "@jupyter-widgets/controls"
     }
    },
    "4bc4c57bcd24479fa96fe611ebeeff0e": {
     "model_module": "@jupyter-widgets/base",
     "model_name": "LayoutModel",
     "state": {
      "_view_name": "LayoutView",
      "grid_template_rows": null,
      "right": null,
      "justify_content": null,
      "_view_module": "@jupyter-widgets/base",
      "overflow": null,
      "_model_module_version": "1.2.0",
      "_view_count": null,
      "flex_flow": null,
      "width": null,
      "min_width": null,
      "border": null,
      "align_items": null,
      "bottom": null,
      "_model_module": "@jupyter-widgets/base",
      "top": null,
      "grid_column": null,
      "overflow_y": null,
      "overflow_x": null,
      "grid_auto_flow": null,
      "grid_area": null,
      "grid_template_columns": null,
      "flex": null,
      "_model_name": "LayoutModel",
      "justify_items": null,
      "grid_row": null,
      "max_height": null,
      "align_content": null,
      "visibility": null,
      "align_self": null,
      "height": null,
      "min_height": null,
      "padding": null,
      "grid_auto_rows": null,
      "grid_gap": null,
      "max_width": null,
      "order": null,
      "_view_module_version": "1.2.0",
      "grid_template_areas": null,
      "object_position": null,
      "object_fit": null,
      "grid_auto_columns": null,
      "margin": null,
      "display": null,
      "left": null
     }
    },
    "5c0b6e3310bf49bcb325ca8b1479fc83": {
     "model_module": "@jupyter-widgets/controls",
     "model_name": "DescriptionStyleModel",
     "state": {
      "_view_name": "StyleView",
      "_model_name": "DescriptionStyleModel",
      "description_width": "",
      "_view_module": "@jupyter-widgets/base",
      "_model_module_version": "1.5.0",
      "_view_count": null,
      "_view_module_version": "1.2.0",
      "_model_module": "@jupyter-widgets/controls"
     }
    },
    "3b3f1f8dca8c4922b2edeef5598625e9": {
     "model_module": "@jupyter-widgets/base",
     "model_name": "LayoutModel",
     "state": {
      "_view_name": "LayoutView",
      "grid_template_rows": null,
      "right": null,
      "justify_content": null,
      "_view_module": "@jupyter-widgets/base",
      "overflow": null,
      "_model_module_version": "1.2.0",
      "_view_count": null,
      "flex_flow": null,
      "width": null,
      "min_width": null,
      "border": null,
      "align_items": null,
      "bottom": null,
      "_model_module": "@jupyter-widgets/base",
      "top": null,
      "grid_column": null,
      "overflow_y": null,
      "overflow_x": null,
      "grid_auto_flow": null,
      "grid_area": null,
      "grid_template_columns": null,
      "flex": null,
      "_model_name": "LayoutModel",
      "justify_items": null,
      "grid_row": null,
      "max_height": null,
      "align_content": null,
      "visibility": null,
      "align_self": null,
      "height": null,
      "min_height": null,
      "padding": null,
      "grid_auto_rows": null,
      "grid_gap": null,
      "max_width": null,
      "order": null,
      "_view_module_version": "1.2.0",
      "grid_template_areas": null,
      "object_position": null,
      "object_fit": null,
      "grid_auto_columns": null,
      "margin": null,
      "display": null,
      "left": null
     }
    },
    "ab05aad904f74d0e8bd3f1681895a79c": {
     "model_module": "@jupyter-widgets/controls",
     "model_name": "HBoxModel",
     "state": {
      "_view_name": "HBoxView",
      "_dom_classes": [],
      "_model_name": "HBoxModel",
      "_view_module": "@jupyter-widgets/controls",
      "_model_module_version": "1.5.0",
      "_view_count": null,
      "_view_module_version": "1.5.0",
      "box_style": "",
      "layout": "IPY_MODEL_d9edc6d0e4a94020994f47a146f234da",
      "_model_module": "@jupyter-widgets/controls",
      "children": [
       "IPY_MODEL_86d5f6088bb144d284b838d0d3900989",
       "IPY_MODEL_c866ff42bdf245b1ba8dd2bacd348288"
      ]
     }
    },
    "d9edc6d0e4a94020994f47a146f234da": {
     "model_module": "@jupyter-widgets/base",
     "model_name": "LayoutModel",
     "state": {
      "_view_name": "LayoutView",
      "grid_template_rows": null,
      "right": null,
      "justify_content": null,
      "_view_module": "@jupyter-widgets/base",
      "overflow": null,
      "_model_module_version": "1.2.0",
      "_view_count": null,
      "flex_flow": null,
      "width": null,
      "min_width": null,
      "border": null,
      "align_items": null,
      "bottom": null,
      "_model_module": "@jupyter-widgets/base",
      "top": null,
      "grid_column": null,
      "overflow_y": null,
      "overflow_x": null,
      "grid_auto_flow": null,
      "grid_area": null,
      "grid_template_columns": null,
      "flex": null,
      "_model_name": "LayoutModel",
      "justify_items": null,
      "grid_row": null,
      "max_height": null,
      "align_content": null,
      "visibility": null,
      "align_self": null,
      "height": null,
      "min_height": null,
      "padding": null,
      "grid_auto_rows": null,
      "grid_gap": null,
      "max_width": null,
      "order": null,
      "_view_module_version": "1.2.0",
      "grid_template_areas": null,
      "object_position": null,
      "object_fit": null,
      "grid_auto_columns": null,
      "margin": null,
      "display": null,
      "left": null
     }
    },
    "86d5f6088bb144d284b838d0d3900989": {
     "model_module": "@jupyter-widgets/controls",
     "model_name": "FloatProgressModel",
     "state": {
      "_view_name": "ProgressView",
      "style": "IPY_MODEL_5eef8e01f06c441188fbf187b4bac3b8",
      "_dom_classes": [],
      "description": "Downloading: 100%",
      "_model_name": "FloatProgressModel",
      "bar_style": "success",
      "max": 28,
      "_view_module": "@jupyter-widgets/controls",
      "_model_module_version": "1.5.0",
      "value": 28,
      "_view_count": null,
      "_view_module_version": "1.5.0",
      "orientation": "horizontal",
      "min": 0,
      "description_tooltip": null,
      "_model_module": "@jupyter-widgets/controls",
      "layout": "IPY_MODEL_b2ede0d594e64eb1b70b99cd80a005e3"
     }
    },
    "c866ff42bdf245b1ba8dd2bacd348288": {
     "model_module": "@jupyter-widgets/controls",
     "model_name": "HTMLModel",
     "state": {
      "_view_name": "HTMLView",
      "style": "IPY_MODEL_847ec0ec69bb4bb3a712480bb350c401",
      "_dom_classes": [],
      "description": "",
      "_model_name": "HTMLModel",
      "placeholder": "​",
      "_view_module": "@jupyter-widgets/controls",
      "_model_module_version": "1.5.0",
      "value": " 28.0/28.0 [00:01&lt;00:00, 27.3B/s]",
      "_view_count": null,
      "_view_module_version": "1.5.0",
      "description_tooltip": null,
      "_model_module": "@jupyter-widgets/controls",
      "layout": "IPY_MODEL_e392117e41e946e19461369380fa9ace"
     }
    },
    "5eef8e01f06c441188fbf187b4bac3b8": {
     "model_module": "@jupyter-widgets/controls",
     "model_name": "ProgressStyleModel",
     "state": {
      "_view_name": "StyleView",
      "_model_name": "ProgressStyleModel",
      "description_width": "initial",
      "_view_module": "@jupyter-widgets/base",
      "_model_module_version": "1.5.0",
      "_view_count": null,
      "_view_module_version": "1.2.0",
      "bar_color": null,
      "_model_module": "@jupyter-widgets/controls"
     }
    },
    "b2ede0d594e64eb1b70b99cd80a005e3": {
     "model_module": "@jupyter-widgets/base",
     "model_name": "LayoutModel",
     "state": {
      "_view_name": "LayoutView",
      "grid_template_rows": null,
      "right": null,
      "justify_content": null,
      "_view_module": "@jupyter-widgets/base",
      "overflow": null,
      "_model_module_version": "1.2.0",
      "_view_count": null,
      "flex_flow": null,
      "width": null,
      "min_width": null,
      "border": null,
      "align_items": null,
      "bottom": null,
      "_model_module": "@jupyter-widgets/base",
      "top": null,
      "grid_column": null,
      "overflow_y": null,
      "overflow_x": null,
      "grid_auto_flow": null,
      "grid_area": null,
      "grid_template_columns": null,
      "flex": null,
      "_model_name": "LayoutModel",
      "justify_items": null,
      "grid_row": null,
      "max_height": null,
      "align_content": null,
      "visibility": null,
      "align_self": null,
      "height": null,
      "min_height": null,
      "padding": null,
      "grid_auto_rows": null,
      "grid_gap": null,
      "max_width": null,
      "order": null,
      "_view_module_version": "1.2.0",
      "grid_template_areas": null,
      "object_position": null,
      "object_fit": null,
      "grid_auto_columns": null,
      "margin": null,
      "display": null,
      "left": null
     }
    },
    "847ec0ec69bb4bb3a712480bb350c401": {
     "model_module": "@jupyter-widgets/controls",
     "model_name": "DescriptionStyleModel",
     "state": {
      "_view_name": "StyleView",
      "_model_name": "DescriptionStyleModel",
      "description_width": "",
      "_view_module": "@jupyter-widgets/base",
      "_model_module_version": "1.5.0",
      "_view_count": null,
      "_view_module_version": "1.2.0",
      "_model_module": "@jupyter-widgets/controls"
     }
    },
    "e392117e41e946e19461369380fa9ace": {
     "model_module": "@jupyter-widgets/base",
     "model_name": "LayoutModel",
     "state": {
      "_view_name": "LayoutView",
      "grid_template_rows": null,
      "right": null,
      "justify_content": null,
      "_view_module": "@jupyter-widgets/base",
      "overflow": null,
      "_model_module_version": "1.2.0",
      "_view_count": null,
      "flex_flow": null,
      "width": null,
      "min_width": null,
      "border": null,
      "align_items": null,
      "bottom": null,
      "_model_module": "@jupyter-widgets/base",
      "top": null,
      "grid_column": null,
      "overflow_y": null,
      "overflow_x": null,
      "grid_auto_flow": null,
      "grid_area": null,
      "grid_template_columns": null,
      "flex": null,
      "_model_name": "LayoutModel",
      "justify_items": null,
      "grid_row": null,
      "max_height": null,
      "align_content": null,
      "visibility": null,
      "align_self": null,
      "height": null,
      "min_height": null,
      "padding": null,
      "grid_auto_rows": null,
      "grid_gap": null,
      "max_width": null,
      "order": null,
      "_view_module_version": "1.2.0",
      "grid_template_areas": null,
      "object_position": null,
      "object_fit": null,
      "grid_auto_columns": null,
      "margin": null,
      "display": null,
      "left": null
     }
    },
    "41e04b6d361046228c6f84e74752119e": {
     "model_module": "@jupyter-widgets/controls",
     "model_name": "HBoxModel",
     "state": {
      "_view_name": "HBoxView",
      "_dom_classes": [],
      "_model_name": "HBoxModel",
      "_view_module": "@jupyter-widgets/controls",
      "_model_module_version": "1.5.0",
      "_view_count": null,
      "_view_module_version": "1.5.0",
      "box_style": "",
      "layout": "IPY_MODEL_5412d7168a634acaba36a1193e135fc8",
      "_model_module": "@jupyter-widgets/controls",
      "children": [
       "IPY_MODEL_e7064fe9778a411289937d7616cccd4a",
       "IPY_MODEL_2857ec800834434a9bf22adef35efb32"
      ]
     }
    },
    "5412d7168a634acaba36a1193e135fc8": {
     "model_module": "@jupyter-widgets/base",
     "model_name": "LayoutModel",
     "state": {
      "_view_name": "LayoutView",
      "grid_template_rows": null,
      "right": null,
      "justify_content": null,
      "_view_module": "@jupyter-widgets/base",
      "overflow": null,
      "_model_module_version": "1.2.0",
      "_view_count": null,
      "flex_flow": null,
      "width": null,
      "min_width": null,
      "border": null,
      "align_items": null,
      "bottom": null,
      "_model_module": "@jupyter-widgets/base",
      "top": null,
      "grid_column": null,
      "overflow_y": null,
      "overflow_x": null,
      "grid_auto_flow": null,
      "grid_area": null,
      "grid_template_columns": null,
      "flex": null,
      "_model_name": "LayoutModel",
      "justify_items": null,
      "grid_row": null,
      "max_height": null,
      "align_content": null,
      "visibility": null,
      "align_self": null,
      "height": null,
      "min_height": null,
      "padding": null,
      "grid_auto_rows": null,
      "grid_gap": null,
      "max_width": null,
      "order": null,
      "_view_module_version": "1.2.0",
      "grid_template_areas": null,
      "object_position": null,
      "object_fit": null,
      "grid_auto_columns": null,
      "margin": null,
      "display": null,
      "left": null
     }
    },
    "e7064fe9778a411289937d7616cccd4a": {
     "model_module": "@jupyter-widgets/controls",
     "model_name": "FloatProgressModel",
     "state": {
      "_view_name": "ProgressView",
      "style": "IPY_MODEL_39d515f207e149ce9cfd9e992ddf163f",
      "_dom_classes": [],
      "description": "Downloading: 100%",
      "_model_name": "FloatProgressModel",
      "bar_style": "success",
      "max": 466062,
      "_view_module": "@jupyter-widgets/controls",
      "_model_module_version": "1.5.0",
      "value": 466062,
      "_view_count": null,
      "_view_module_version": "1.5.0",
      "orientation": "horizontal",
      "min": 0,
      "description_tooltip": null,
      "_model_module": "@jupyter-widgets/controls",
      "layout": "IPY_MODEL_4143fef7a33e4cf7b24ffb909727615b"
     }
    },
    "2857ec800834434a9bf22adef35efb32": {
     "model_module": "@jupyter-widgets/controls",
     "model_name": "HTMLModel",
     "state": {
      "_view_name": "HTMLView",
      "style": "IPY_MODEL_ea02facf2f51406396635b8acaccaf41",
      "_dom_classes": [],
      "description": "",
      "_model_name": "HTMLModel",
      "placeholder": "​",
      "_view_module": "@jupyter-widgets/controls",
      "_model_module_version": "1.5.0",
      "value": " 466k/466k [00:00&lt;00:00, 1.05MB/s]",
      "_view_count": null,
      "_view_module_version": "1.5.0",
      "description_tooltip": null,
      "_model_module": "@jupyter-widgets/controls",
      "layout": "IPY_MODEL_fc0b703ee98c4d4fbfe6e5e0ed3bbf16"
     }
    },
    "39d515f207e149ce9cfd9e992ddf163f": {
     "model_module": "@jupyter-widgets/controls",
     "model_name": "ProgressStyleModel",
     "state": {
      "_view_name": "StyleView",
      "_model_name": "ProgressStyleModel",
      "description_width": "initial",
      "_view_module": "@jupyter-widgets/base",
      "_model_module_version": "1.5.0",
      "_view_count": null,
      "_view_module_version": "1.2.0",
      "bar_color": null,
      "_model_module": "@jupyter-widgets/controls"
     }
    },
    "4143fef7a33e4cf7b24ffb909727615b": {
     "model_module": "@jupyter-widgets/base",
     "model_name": "LayoutModel",
     "state": {
      "_view_name": "LayoutView",
      "grid_template_rows": null,
      "right": null,
      "justify_content": null,
      "_view_module": "@jupyter-widgets/base",
      "overflow": null,
      "_model_module_version": "1.2.0",
      "_view_count": null,
      "flex_flow": null,
      "width": null,
      "min_width": null,
      "border": null,
      "align_items": null,
      "bottom": null,
      "_model_module": "@jupyter-widgets/base",
      "top": null,
      "grid_column": null,
      "overflow_y": null,
      "overflow_x": null,
      "grid_auto_flow": null,
      "grid_area": null,
      "grid_template_columns": null,
      "flex": null,
      "_model_name": "LayoutModel",
      "justify_items": null,
      "grid_row": null,
      "max_height": null,
      "align_content": null,
      "visibility": null,
      "align_self": null,
      "height": null,
      "min_height": null,
      "padding": null,
      "grid_auto_rows": null,
      "grid_gap": null,
      "max_width": null,
      "order": null,
      "_view_module_version": "1.2.0",
      "grid_template_areas": null,
      "object_position": null,
      "object_fit": null,
      "grid_auto_columns": null,
      "margin": null,
      "display": null,
      "left": null
     }
    },
    "ea02facf2f51406396635b8acaccaf41": {
     "model_module": "@jupyter-widgets/controls",
     "model_name": "DescriptionStyleModel",
     "state": {
      "_view_name": "StyleView",
      "_model_name": "DescriptionStyleModel",
      "description_width": "",
      "_view_module": "@jupyter-widgets/base",
      "_model_module_version": "1.5.0",
      "_view_count": null,
      "_view_module_version": "1.2.0",
      "_model_module": "@jupyter-widgets/controls"
     }
    },
    "fc0b703ee98c4d4fbfe6e5e0ed3bbf16": {
     "model_module": "@jupyter-widgets/base",
     "model_name": "LayoutModel",
     "state": {
      "_view_name": "LayoutView",
      "grid_template_rows": null,
      "right": null,
      "justify_content": null,
      "_view_module": "@jupyter-widgets/base",
      "overflow": null,
      "_model_module_version": "1.2.0",
      "_view_count": null,
      "flex_flow": null,
      "width": null,
      "min_width": null,
      "border": null,
      "align_items": null,
      "bottom": null,
      "_model_module": "@jupyter-widgets/base",
      "top": null,
      "grid_column": null,
      "overflow_y": null,
      "overflow_x": null,
      "grid_auto_flow": null,
      "grid_area": null,
      "grid_template_columns": null,
      "flex": null,
      "_model_name": "LayoutModel",
      "justify_items": null,
      "grid_row": null,
      "max_height": null,
      "align_content": null,
      "visibility": null,
      "align_self": null,
      "height": null,
      "min_height": null,
      "padding": null,
      "grid_auto_rows": null,
      "grid_gap": null,
      "max_width": null,
      "order": null,
      "_view_module_version": "1.2.0",
      "grid_template_areas": null,
      "object_position": null,
      "object_fit": null,
      "grid_auto_columns": null,
      "margin": null,
      "display": null,
      "left": null
     }
    },
    "0b36df9c78fe41d49c2f40405dd5da2e": {
     "model_module": "@jupyter-widgets/controls",
     "model_name": "HBoxModel",
     "state": {
      "_view_name": "HBoxView",
      "_dom_classes": [],
      "_model_name": "HBoxModel",
      "_view_module": "@jupyter-widgets/controls",
      "_model_module_version": "1.5.0",
      "_view_count": null,
      "_view_module_version": "1.5.0",
      "box_style": "",
      "layout": "IPY_MODEL_783f1f8de82941e487bd7e688a834aee",
      "_model_module": "@jupyter-widgets/controls",
      "children": [
       "IPY_MODEL_de94b168089f400689688c604824ba83",
       "IPY_MODEL_f9b8a9601a8f488dbec9299d59e564a2"
      ]
     }
    },
    "783f1f8de82941e487bd7e688a834aee": {
     "model_module": "@jupyter-widgets/base",
     "model_name": "LayoutModel",
     "state": {
      "_view_name": "LayoutView",
      "grid_template_rows": null,
      "right": null,
      "justify_content": null,
      "_view_module": "@jupyter-widgets/base",
      "overflow": null,
      "_model_module_version": "1.2.0",
      "_view_count": null,
      "flex_flow": null,
      "width": null,
      "min_width": null,
      "border": null,
      "align_items": null,
      "bottom": null,
      "_model_module": "@jupyter-widgets/base",
      "top": null,
      "grid_column": null,
      "overflow_y": null,
      "overflow_x": null,
      "grid_auto_flow": null,
      "grid_area": null,
      "grid_template_columns": null,
      "flex": null,
      "_model_name": "LayoutModel",
      "justify_items": null,
      "grid_row": null,
      "max_height": null,
      "align_content": null,
      "visibility": null,
      "align_self": null,
      "height": null,
      "min_height": null,
      "padding": null,
      "grid_auto_rows": null,
      "grid_gap": null,
      "max_width": null,
      "order": null,
      "_view_module_version": "1.2.0",
      "grid_template_areas": null,
      "object_position": null,
      "object_fit": null,
      "grid_auto_columns": null,
      "margin": null,
      "display": null,
      "left": null
     }
    },
    "de94b168089f400689688c604824ba83": {
     "model_module": "@jupyter-widgets/controls",
     "model_name": "FloatProgressModel",
     "state": {
      "_view_name": "ProgressView",
      "style": "IPY_MODEL_f802a29f76964d55b73d90a3832e8362",
      "_dom_classes": [],
      "description": "Downloading: 100%",
      "_model_name": "FloatProgressModel",
      "bar_style": "success",
      "max": 433,
      "_view_module": "@jupyter-widgets/controls",
      "_model_module_version": "1.5.0",
      "value": 433,
      "_view_count": null,
      "_view_module_version": "1.5.0",
      "orientation": "horizontal",
      "min": 0,
      "description_tooltip": null,
      "_model_module": "@jupyter-widgets/controls",
      "layout": "IPY_MODEL_296fc14ffa274343a18b154ea0530382"
     }
    },
    "f9b8a9601a8f488dbec9299d59e564a2": {
     "model_module": "@jupyter-widgets/controls",
     "model_name": "HTMLModel",
     "state": {
      "_view_name": "HTMLView",
      "style": "IPY_MODEL_1c8a7772cc4f4222b042f8719a9f67d6",
      "_dom_classes": [],
      "description": "",
      "_model_name": "HTMLModel",
      "placeholder": "​",
      "_view_module": "@jupyter-widgets/controls",
      "_model_module_version": "1.5.0",
      "value": " 433/433 [00:00&lt;00:00, 14.7kB/s]",
      "_view_count": null,
      "_view_module_version": "1.5.0",
      "description_tooltip": null,
      "_model_module": "@jupyter-widgets/controls",
      "layout": "IPY_MODEL_7f8204acce344850b4bcb70a2126127d"
     }
    },
    "f802a29f76964d55b73d90a3832e8362": {
     "model_module": "@jupyter-widgets/controls",
     "model_name": "ProgressStyleModel",
     "state": {
      "_view_name": "StyleView",
      "_model_name": "ProgressStyleModel",
      "description_width": "initial",
      "_view_module": "@jupyter-widgets/base",
      "_model_module_version": "1.5.0",
      "_view_count": null,
      "_view_module_version": "1.2.0",
      "bar_color": null,
      "_model_module": "@jupyter-widgets/controls"
     }
    },
    "296fc14ffa274343a18b154ea0530382": {
     "model_module": "@jupyter-widgets/base",
     "model_name": "LayoutModel",
     "state": {
      "_view_name": "LayoutView",
      "grid_template_rows": null,
      "right": null,
      "justify_content": null,
      "_view_module": "@jupyter-widgets/base",
      "overflow": null,
      "_model_module_version": "1.2.0",
      "_view_count": null,
      "flex_flow": null,
      "width": null,
      "min_width": null,
      "border": null,
      "align_items": null,
      "bottom": null,
      "_model_module": "@jupyter-widgets/base",
      "top": null,
      "grid_column": null,
      "overflow_y": null,
      "overflow_x": null,
      "grid_auto_flow": null,
      "grid_area": null,
      "grid_template_columns": null,
      "flex": null,
      "_model_name": "LayoutModel",
      "justify_items": null,
      "grid_row": null,
      "max_height": null,
      "align_content": null,
      "visibility": null,
      "align_self": null,
      "height": null,
      "min_height": null,
      "padding": null,
      "grid_auto_rows": null,
      "grid_gap": null,
      "max_width": null,
      "order": null,
      "_view_module_version": "1.2.0",
      "grid_template_areas": null,
      "object_position": null,
      "object_fit": null,
      "grid_auto_columns": null,
      "margin": null,
      "display": null,
      "left": null
     }
    },
    "1c8a7772cc4f4222b042f8719a9f67d6": {
     "model_module": "@jupyter-widgets/controls",
     "model_name": "DescriptionStyleModel",
     "state": {
      "_view_name": "StyleView",
      "_model_name": "DescriptionStyleModel",
      "description_width": "",
      "_view_module": "@jupyter-widgets/base",
      "_model_module_version": "1.5.0",
      "_view_count": null,
      "_view_module_version": "1.2.0",
      "_model_module": "@jupyter-widgets/controls"
     }
    },
    "7f8204acce344850b4bcb70a2126127d": {
     "model_module": "@jupyter-widgets/base",
     "model_name": "LayoutModel",
     "state": {
      "_view_name": "LayoutView",
      "grid_template_rows": null,
      "right": null,
      "justify_content": null,
      "_view_module": "@jupyter-widgets/base",
      "overflow": null,
      "_model_module_version": "1.2.0",
      "_view_count": null,
      "flex_flow": null,
      "width": null,
      "min_width": null,
      "border": null,
      "align_items": null,
      "bottom": null,
      "_model_module": "@jupyter-widgets/base",
      "top": null,
      "grid_column": null,
      "overflow_y": null,
      "overflow_x": null,
      "grid_auto_flow": null,
      "grid_area": null,
      "grid_template_columns": null,
      "flex": null,
      "_model_name": "LayoutModel",
      "justify_items": null,
      "grid_row": null,
      "max_height": null,
      "align_content": null,
      "visibility": null,
      "align_self": null,
      "height": null,
      "min_height": null,
      "padding": null,
      "grid_auto_rows": null,
      "grid_gap": null,
      "max_width": null,
      "order": null,
      "_view_module_version": "1.2.0",
      "grid_template_areas": null,
      "object_position": null,
      "object_fit": null,
      "grid_auto_columns": null,
      "margin": null,
      "display": null,
      "left": null
     }
    },
    "0eef057a94c0408da3dc19f18ec9799d": {
     "model_module": "@jupyter-widgets/controls",
     "model_name": "HBoxModel",
     "state": {
      "_view_name": "HBoxView",
      "_dom_classes": [],
      "_model_name": "HBoxModel",
      "_view_module": "@jupyter-widgets/controls",
      "_model_module_version": "1.5.0",
      "_view_count": null,
      "_view_module_version": "1.5.0",
      "box_style": "",
      "layout": "IPY_MODEL_e445210c6ef24685ae71e93523e589c3",
      "_model_module": "@jupyter-widgets/controls",
      "children": [
       "IPY_MODEL_bc63c442c7b4409682d99bc8f2ba8ce1",
       "IPY_MODEL_8016601cfa9a4c88bad2ac851d5fafca"
      ]
     }
    },
    "e445210c6ef24685ae71e93523e589c3": {
     "model_module": "@jupyter-widgets/base",
     "model_name": "LayoutModel",
     "state": {
      "_view_name": "LayoutView",
      "grid_template_rows": null,
      "right": null,
      "justify_content": null,
      "_view_module": "@jupyter-widgets/base",
      "overflow": null,
      "_model_module_version": "1.2.0",
      "_view_count": null,
      "flex_flow": null,
      "width": null,
      "min_width": null,
      "border": null,
      "align_items": null,
      "bottom": null,
      "_model_module": "@jupyter-widgets/base",
      "top": null,
      "grid_column": null,
      "overflow_y": null,
      "overflow_x": null,
      "grid_auto_flow": null,
      "grid_area": null,
      "grid_template_columns": null,
      "flex": null,
      "_model_name": "LayoutModel",
      "justify_items": null,
      "grid_row": null,
      "max_height": null,
      "align_content": null,
      "visibility": null,
      "align_self": null,
      "height": null,
      "min_height": null,
      "padding": null,
      "grid_auto_rows": null,
      "grid_gap": null,
      "max_width": null,
      "order": null,
      "_view_module_version": "1.2.0",
      "grid_template_areas": null,
      "object_position": null,
      "object_fit": null,
      "grid_auto_columns": null,
      "margin": null,
      "display": null,
      "left": null
     }
    },
    "bc63c442c7b4409682d99bc8f2ba8ce1": {
     "model_module": "@jupyter-widgets/controls",
     "model_name": "FloatProgressModel",
     "state": {
      "_view_name": "ProgressView",
      "style": "IPY_MODEL_e875bb1f0d6e4a0ab91d8416999bdc21",
      "_dom_classes": [],
      "description": "Downloading: 100%",
      "_model_name": "FloatProgressModel",
      "bar_style": "success",
      "max": 440473133,
      "_view_module": "@jupyter-widgets/controls",
      "_model_module_version": "1.5.0",
      "value": 440473133,
      "_view_count": null,
      "_view_module_version": "1.5.0",
      "orientation": "horizontal",
      "min": 0,
      "description_tooltip": null,
      "_model_module": "@jupyter-widgets/controls",
      "layout": "IPY_MODEL_9b210110049f4b1ab685abe2c50a83d3"
     }
    },
    "8016601cfa9a4c88bad2ac851d5fafca": {
     "model_module": "@jupyter-widgets/controls",
     "model_name": "HTMLModel",
     "state": {
      "_view_name": "HTMLView",
      "style": "IPY_MODEL_2578b45ac5484b4996ee24939b3b5682",
      "_dom_classes": [],
      "description": "",
      "_model_name": "HTMLModel",
      "placeholder": "​",
      "_view_module": "@jupyter-widgets/controls",
      "_model_module_version": "1.5.0",
      "value": " 440M/440M [00:07&lt;00:00, 57.7MB/s]",
      "_view_count": null,
      "_view_module_version": "1.5.0",
      "description_tooltip": null,
      "_model_module": "@jupyter-widgets/controls",
      "layout": "IPY_MODEL_638ef540a72842b895343d5d35d90247"
     }
    },
    "e875bb1f0d6e4a0ab91d8416999bdc21": {
     "model_module": "@jupyter-widgets/controls",
     "model_name": "ProgressStyleModel",
     "state": {
      "_view_name": "StyleView",
      "_model_name": "ProgressStyleModel",
      "description_width": "initial",
      "_view_module": "@jupyter-widgets/base",
      "_model_module_version": "1.5.0",
      "_view_count": null,
      "_view_module_version": "1.2.0",
      "bar_color": null,
      "_model_module": "@jupyter-widgets/controls"
     }
    },
    "9b210110049f4b1ab685abe2c50a83d3": {
     "model_module": "@jupyter-widgets/base",
     "model_name": "LayoutModel",
     "state": {
      "_view_name": "LayoutView",
      "grid_template_rows": null,
      "right": null,
      "justify_content": null,
      "_view_module": "@jupyter-widgets/base",
      "overflow": null,
      "_model_module_version": "1.2.0",
      "_view_count": null,
      "flex_flow": null,
      "width": null,
      "min_width": null,
      "border": null,
      "align_items": null,
      "bottom": null,
      "_model_module": "@jupyter-widgets/base",
      "top": null,
      "grid_column": null,
      "overflow_y": null,
      "overflow_x": null,
      "grid_auto_flow": null,
      "grid_area": null,
      "grid_template_columns": null,
      "flex": null,
      "_model_name": "LayoutModel",
      "justify_items": null,
      "grid_row": null,
      "max_height": null,
      "align_content": null,
      "visibility": null,
      "align_self": null,
      "height": null,
      "min_height": null,
      "padding": null,
      "grid_auto_rows": null,
      "grid_gap": null,
      "max_width": null,
      "order": null,
      "_view_module_version": "1.2.0",
      "grid_template_areas": null,
      "object_position": null,
      "object_fit": null,
      "grid_auto_columns": null,
      "margin": null,
      "display": null,
      "left": null
     }
    },
    "2578b45ac5484b4996ee24939b3b5682": {
     "model_module": "@jupyter-widgets/controls",
     "model_name": "DescriptionStyleModel",
     "state": {
      "_view_name": "StyleView",
      "_model_name": "DescriptionStyleModel",
      "description_width": "",
      "_view_module": "@jupyter-widgets/base",
      "_model_module_version": "1.5.0",
      "_view_count": null,
      "_view_module_version": "1.2.0",
      "_model_module": "@jupyter-widgets/controls"
     }
    },
    "638ef540a72842b895343d5d35d90247": {
     "model_module": "@jupyter-widgets/base",
     "model_name": "LayoutModel",
     "state": {
      "_view_name": "LayoutView",
      "grid_template_rows": null,
      "right": null,
      "justify_content": null,
      "_view_module": "@jupyter-widgets/base",
      "overflow": null,
      "_model_module_version": "1.2.0",
      "_view_count": null,
      "flex_flow": null,
      "width": null,
      "min_width": null,
      "border": null,
      "align_items": null,
      "bottom": null,
      "_model_module": "@jupyter-widgets/base",
      "top": null,
      "grid_column": null,
      "overflow_y": null,
      "overflow_x": null,
      "grid_auto_flow": null,
      "grid_area": null,
      "grid_template_columns": null,
      "flex": null,
      "_model_name": "LayoutModel",
      "justify_items": null,
      "grid_row": null,
      "max_height": null,
      "align_content": null,
      "visibility": null,
      "align_self": null,
      "height": null,
      "min_height": null,
      "padding": null,
      "grid_auto_rows": null,
      "grid_gap": null,
      "max_width": null,
      "order": null,
      "_view_module_version": "1.2.0",
      "grid_template_areas": null,
      "object_position": null,
      "object_fit": null,
      "grid_auto_columns": null,
      "margin": null,
      "display": null,
      "left": null
     }
    }
   }
  }
 },
 "cells": [
  {
   "cell_type": "markdown",
   "metadata": {
    "id": "view-in-github",
    "colab_type": "text"
   },
   "source": [
    "<a href=\"https://colab.research.google.com/github/fawazshah/News-Media-Reliability/blob/master/train_bert.ipynb\" target=\"_parent\"><img src=\"https://colab.research.google.com/assets/colab-badge.svg\" alt=\"Open In Colab\"/></a>"
   ]
  },
  {
   "cell_type": "markdown",
   "metadata": {
    "id": "3v3OZRfOXciF"
   },
   "source": [
    "### Imports"
   ]
  },
  {
   "cell_type": "code",
   "metadata": {
    "id": "1WdkCXGSlBCD",
    "colab": {
     "base_uri": "https://localhost:8080/"
    },
    "outputId": "028a8b60-7bee-4ae6-c27c-e3d9ce2aff08"
   },
   "source": [
    "!pip install transformers"
   ],
   "execution_count": 1,
   "outputs": [
    {
     "output_type": "stream",
     "text": [
      "Collecting transformers\n",
      "\u001B[?25l  Downloading https://files.pythonhosted.org/packages/81/91/61d69d58a1af1bd81d9ca9d62c90a6de3ab80d77f27c5df65d9a2c1f5626/transformers-4.5.0-py3-none-any.whl (2.1MB)\n",
      "\r\u001B[K     |▏                               | 10kB 24.8MB/s eta 0:00:01\r\u001B[K     |▎                               | 20kB 18.7MB/s eta 0:00:01\r\u001B[K     |▌                               | 30kB 15.4MB/s eta 0:00:01\r\u001B[K     |▋                               | 40kB 14.5MB/s eta 0:00:01\r\u001B[K     |▊                               | 51kB 14.5MB/s eta 0:00:01\r\u001B[K     |█                               | 61kB 16.5MB/s eta 0:00:01\r\u001B[K     |█                               | 71kB 14.2MB/s eta 0:00:01\r\u001B[K     |█▏                              | 81kB 13.7MB/s eta 0:00:01\r\u001B[K     |█▍                              | 92kB 13.0MB/s eta 0:00:01\r\u001B[K     |█▌                              | 102kB 12.6MB/s eta 0:00:01\r\u001B[K     |█▊                              | 112kB 12.6MB/s eta 0:00:01\r\u001B[K     |█▉                              | 122kB 12.6MB/s eta 0:00:01\r\u001B[K     |██                              | 133kB 12.6MB/s eta 0:00:01\r\u001B[K     |██▏                             | 143kB 12.6MB/s eta 0:00:01\r\u001B[K     |██▎                             | 153kB 12.6MB/s eta 0:00:01\r\u001B[K     |██▍                             | 163kB 12.6MB/s eta 0:00:01\r\u001B[K     |██▋                             | 174kB 12.6MB/s eta 0:00:01\r\u001B[K     |██▊                             | 184kB 12.6MB/s eta 0:00:01\r\u001B[K     |███                             | 194kB 12.6MB/s eta 0:00:01\r\u001B[K     |███                             | 204kB 12.6MB/s eta 0:00:01\r\u001B[K     |███▏                            | 215kB 12.6MB/s eta 0:00:01\r\u001B[K     |███▍                            | 225kB 12.6MB/s eta 0:00:01\r\u001B[K     |███▌                            | 235kB 12.6MB/s eta 0:00:01\r\u001B[K     |███▋                            | 245kB 12.6MB/s eta 0:00:01\r\u001B[K     |███▉                            | 256kB 12.6MB/s eta 0:00:01\r\u001B[K     |████                            | 266kB 12.6MB/s eta 0:00:01\r\u001B[K     |████▏                           | 276kB 12.6MB/s eta 0:00:01\r\u001B[K     |████▎                           | 286kB 12.6MB/s eta 0:00:01\r\u001B[K     |████▍                           | 296kB 12.6MB/s eta 0:00:01\r\u001B[K     |████▋                           | 307kB 12.6MB/s eta 0:00:01\r\u001B[K     |████▊                           | 317kB 12.6MB/s eta 0:00:01\r\u001B[K     |████▉                           | 327kB 12.6MB/s eta 0:00:01\r\u001B[K     |█████                           | 337kB 12.6MB/s eta 0:00:01\r\u001B[K     |█████▏                          | 348kB 12.6MB/s eta 0:00:01\r\u001B[K     |█████▍                          | 358kB 12.6MB/s eta 0:00:01\r\u001B[K     |█████▌                          | 368kB 12.6MB/s eta 0:00:01\r\u001B[K     |█████▋                          | 378kB 12.6MB/s eta 0:00:01\r\u001B[K     |█████▉                          | 389kB 12.6MB/s eta 0:00:01\r\u001B[K     |██████                          | 399kB 12.6MB/s eta 0:00:01\r\u001B[K     |██████                          | 409kB 12.6MB/s eta 0:00:01\r\u001B[K     |██████▎                         | 419kB 12.6MB/s eta 0:00:01\r\u001B[K     |██████▍                         | 430kB 12.6MB/s eta 0:00:01\r\u001B[K     |██████▋                         | 440kB 12.6MB/s eta 0:00:01\r\u001B[K     |██████▊                         | 450kB 12.6MB/s eta 0:00:01\r\u001B[K     |██████▉                         | 460kB 12.6MB/s eta 0:00:01\r\u001B[K     |███████                         | 471kB 12.6MB/s eta 0:00:01\r\u001B[K     |███████▏                        | 481kB 12.6MB/s eta 0:00:01\r\u001B[K     |███████▎                        | 491kB 12.6MB/s eta 0:00:01\r\u001B[K     |███████▌                        | 501kB 12.6MB/s eta 0:00:01\r\u001B[K     |███████▋                        | 512kB 12.6MB/s eta 0:00:01\r\u001B[K     |███████▉                        | 522kB 12.6MB/s eta 0:00:01\r\u001B[K     |████████                        | 532kB 12.6MB/s eta 0:00:01\r\u001B[K     |████████                        | 542kB 12.6MB/s eta 0:00:01\r\u001B[K     |████████▎                       | 552kB 12.6MB/s eta 0:00:01\r\u001B[K     |████████▍                       | 563kB 12.6MB/s eta 0:00:01\r\u001B[K     |████████▌                       | 573kB 12.6MB/s eta 0:00:01\r\u001B[K     |████████▊                       | 583kB 12.6MB/s eta 0:00:01\r\u001B[K     |████████▉                       | 593kB 12.6MB/s eta 0:00:01\r\u001B[K     |█████████                       | 604kB 12.6MB/s eta 0:00:01\r\u001B[K     |█████████▏                      | 614kB 12.6MB/s eta 0:00:01\r\u001B[K     |█████████▎                      | 624kB 12.6MB/s eta 0:00:01\r\u001B[K     |█████████▌                      | 634kB 12.6MB/s eta 0:00:01\r\u001B[K     |█████████▋                      | 645kB 12.6MB/s eta 0:00:01\r\u001B[K     |█████████▊                      | 655kB 12.6MB/s eta 0:00:01\r\u001B[K     |██████████                      | 665kB 12.6MB/s eta 0:00:01\r\u001B[K     |██████████                      | 675kB 12.6MB/s eta 0:00:01\r\u001B[K     |██████████▎                     | 686kB 12.6MB/s eta 0:00:01\r\u001B[K     |██████████▍                     | 696kB 12.6MB/s eta 0:00:01\r\u001B[K     |██████████▌                     | 706kB 12.6MB/s eta 0:00:01\r\u001B[K     |██████████▊                     | 716kB 12.6MB/s eta 0:00:01\r\u001B[K     |██████████▉                     | 727kB 12.6MB/s eta 0:00:01\r\u001B[K     |███████████                     | 737kB 12.6MB/s eta 0:00:01\r\u001B[K     |███████████▏                    | 747kB 12.6MB/s eta 0:00:01\r\u001B[K     |███████████▎                    | 757kB 12.6MB/s eta 0:00:01\r\u001B[K     |███████████▌                    | 768kB 12.6MB/s eta 0:00:01\r\u001B[K     |███████████▋                    | 778kB 12.6MB/s eta 0:00:01\r\u001B[K     |███████████▊                    | 788kB 12.6MB/s eta 0:00:01\r\u001B[K     |████████████                    | 798kB 12.6MB/s eta 0:00:01\r\u001B[K     |████████████                    | 808kB 12.6MB/s eta 0:00:01\r\u001B[K     |████████████▏                   | 819kB 12.6MB/s eta 0:00:01\r\u001B[K     |████████████▍                   | 829kB 12.6MB/s eta 0:00:01\r\u001B[K     |████████████▌                   | 839kB 12.6MB/s eta 0:00:01\r\u001B[K     |████████████▊                   | 849kB 12.6MB/s eta 0:00:01\r\u001B[K     |████████████▉                   | 860kB 12.6MB/s eta 0:00:01\r\u001B[K     |█████████████                   | 870kB 12.6MB/s eta 0:00:01\r\u001B[K     |█████████████▏                  | 880kB 12.6MB/s eta 0:00:01\r\u001B[K     |█████████████▎                  | 890kB 12.6MB/s eta 0:00:01\r\u001B[K     |█████████████▍                  | 901kB 12.6MB/s eta 0:00:01\r\u001B[K     |█████████████▋                  | 911kB 12.6MB/s eta 0:00:01\r\u001B[K     |█████████████▊                  | 921kB 12.6MB/s eta 0:00:01\r\u001B[K     |██████████████                  | 931kB 12.6MB/s eta 0:00:01\r\u001B[K     |██████████████                  | 942kB 12.6MB/s eta 0:00:01\r\u001B[K     |██████████████▏                 | 952kB 12.6MB/s eta 0:00:01\r\u001B[K     |██████████████▍                 | 962kB 12.6MB/s eta 0:00:01\r\u001B[K     |██████████████▌                 | 972kB 12.6MB/s eta 0:00:01\r\u001B[K     |██████████████▋                 | 983kB 12.6MB/s eta 0:00:01\r\u001B[K     |██████████████▉                 | 993kB 12.6MB/s eta 0:00:01\r\u001B[K     |███████████████                 | 1.0MB 12.6MB/s eta 0:00:01\r\u001B[K     |███████████████▏                | 1.0MB 12.6MB/s eta 0:00:01\r\u001B[K     |███████████████▎                | 1.0MB 12.6MB/s eta 0:00:01\r\u001B[K     |███████████████▍                | 1.0MB 12.6MB/s eta 0:00:01\r\u001B[K     |███████████████▋                | 1.0MB 12.6MB/s eta 0:00:01\r\u001B[K     |███████████████▊                | 1.1MB 12.6MB/s eta 0:00:01\r\u001B[K     |███████████████▉                | 1.1MB 12.6MB/s eta 0:00:01\r\u001B[K     |████████████████                | 1.1MB 12.6MB/s eta 0:00:01\r\u001B[K     |████████████████▏               | 1.1MB 12.6MB/s eta 0:00:01\r\u001B[K     |████████████████▍               | 1.1MB 12.6MB/s eta 0:00:01\r\u001B[K     |████████████████▌               | 1.1MB 12.6MB/s eta 0:00:01\r\u001B[K     |████████████████▋               | 1.1MB 12.6MB/s eta 0:00:01\r\u001B[K     |████████████████▉               | 1.1MB 12.6MB/s eta 0:00:01\r\u001B[K     |█████████████████               | 1.1MB 12.6MB/s eta 0:00:01\r\u001B[K     |█████████████████               | 1.1MB 12.6MB/s eta 0:00:01\r\u001B[K     |█████████████████▎              | 1.2MB 12.6MB/s eta 0:00:01\r\u001B[K     |█████████████████▍              | 1.2MB 12.6MB/s eta 0:00:01\r\u001B[K     |█████████████████▌              | 1.2MB 12.6MB/s eta 0:00:01\r\u001B[K     |█████████████████▊              | 1.2MB 12.6MB/s eta 0:00:01\r\u001B[K     |█████████████████▉              | 1.2MB 12.6MB/s eta 0:00:01\r\u001B[K     |██████████████████              | 1.2MB 12.6MB/s eta 0:00:01\r\u001B[K     |██████████████████▏             | 1.2MB 12.6MB/s eta 0:00:01\r\u001B[K     |██████████████████▎             | 1.2MB 12.6MB/s eta 0:00:01\r\u001B[K     |██████████████████▌             | 1.2MB 12.6MB/s eta 0:00:01\r\u001B[K     |██████████████████▋             | 1.2MB 12.6MB/s eta 0:00:01\r\u001B[K     |██████████████████▊             | 1.3MB 12.6MB/s eta 0:00:01\r\u001B[K     |███████████████████             | 1.3MB 12.6MB/s eta 0:00:01\r\u001B[K     |███████████████████             | 1.3MB 12.6MB/s eta 0:00:01\r\u001B[K     |███████████████████▎            | 1.3MB 12.6MB/s eta 0:00:01\r\u001B[K     |███████████████████▍            | 1.3MB 12.6MB/s eta 0:00:01\r\u001B[K     |███████████████████▌            | 1.3MB 12.6MB/s eta 0:00:01\r\u001B[K     |███████████████████▊            | 1.3MB 12.6MB/s eta 0:00:01\r\u001B[K     |███████████████████▉            | 1.3MB 12.6MB/s eta 0:00:01\r\u001B[K     |████████████████████            | 1.3MB 12.6MB/s eta 0:00:01\r\u001B[K     |████████████████████▏           | 1.4MB 12.6MB/s eta 0:00:01\r\u001B[K     |████████████████████▎           | 1.4MB 12.6MB/s eta 0:00:01\r\u001B[K     |████████████████████▌           | 1.4MB 12.6MB/s eta 0:00:01\r\u001B[K     |████████████████████▋           | 1.4MB 12.6MB/s eta 0:00:01\r\u001B[K     |████████████████████▊           | 1.4MB 12.6MB/s eta 0:00:01\r\u001B[K     |█████████████████████           | 1.4MB 12.6MB/s eta 0:00:01\r\u001B[K     |█████████████████████           | 1.4MB 12.6MB/s eta 0:00:01\r\u001B[K     |█████████████████████▏          | 1.4MB 12.6MB/s eta 0:00:01\r\u001B[K     |█████████████████████▍          | 1.4MB 12.6MB/s eta 0:00:01\r\u001B[K     |█████████████████████▌          | 1.4MB 12.6MB/s eta 0:00:01\r\u001B[K     |█████████████████████▊          | 1.5MB 12.6MB/s eta 0:00:01\r\u001B[K     |█████████████████████▉          | 1.5MB 12.6MB/s eta 0:00:01\r\u001B[K     |██████████████████████          | 1.5MB 12.6MB/s eta 0:00:01\r\u001B[K     |██████████████████████▏         | 1.5MB 12.6MB/s eta 0:00:01\r\u001B[K     |██████████████████████▎         | 1.5MB 12.6MB/s eta 0:00:01\r\u001B[K     |██████████████████████▍         | 1.5MB 12.6MB/s eta 0:00:01\r\u001B[K     |██████████████████████▋         | 1.5MB 12.6MB/s eta 0:00:01\r\u001B[K     |██████████████████████▊         | 1.5MB 12.6MB/s eta 0:00:01\r\u001B[K     |███████████████████████         | 1.5MB 12.6MB/s eta 0:00:01\r\u001B[K     |███████████████████████         | 1.5MB 12.6MB/s eta 0:00:01\r\u001B[K     |███████████████████████▏        | 1.6MB 12.6MB/s eta 0:00:01\r\u001B[K     |███████████████████████▍        | 1.6MB 12.6MB/s eta 0:00:01\r\u001B[K     |███████████████████████▌        | 1.6MB 12.6MB/s eta 0:00:01\r\u001B[K     |███████████████████████▋        | 1.6MB 12.6MB/s eta 0:00:01\r\u001B[K     |███████████████████████▉        | 1.6MB 12.6MB/s eta 0:00:01\r\u001B[K     |████████████████████████        | 1.6MB 12.6MB/s eta 0:00:01\r\u001B[K     |████████████████████████▏       | 1.6MB 12.6MB/s eta 0:00:01\r\u001B[K     |████████████████████████▎       | 1.6MB 12.6MB/s eta 0:00:01\r\u001B[K     |████████████████████████▍       | 1.6MB 12.6MB/s eta 0:00:01\r\u001B[K     |████████████████████████▋       | 1.6MB 12.6MB/s eta 0:00:01\r\u001B[K     |████████████████████████▊       | 1.7MB 12.6MB/s eta 0:00:01\r\u001B[K     |████████████████████████▉       | 1.7MB 12.6MB/s eta 0:00:01\r\u001B[K     |█████████████████████████       | 1.7MB 12.6MB/s eta 0:00:01\r\u001B[K     |█████████████████████████▏      | 1.7MB 12.6MB/s eta 0:00:01\r\u001B[K     |█████████████████████████▍      | 1.7MB 12.6MB/s eta 0:00:01\r\u001B[K     |█████████████████████████▌      | 1.7MB 12.6MB/s eta 0:00:01\r\u001B[K     |█████████████████████████▋      | 1.7MB 12.6MB/s eta 0:00:01\r\u001B[K     |█████████████████████████▉      | 1.7MB 12.6MB/s eta 0:00:01\r\u001B[K     |██████████████████████████      | 1.7MB 12.6MB/s eta 0:00:01\r\u001B[K     |██████████████████████████      | 1.8MB 12.6MB/s eta 0:00:01\r\u001B[K     |██████████████████████████▎     | 1.8MB 12.6MB/s eta 0:00:01\r\u001B[K     |██████████████████████████▍     | 1.8MB 12.6MB/s eta 0:00:01\r\u001B[K     |██████████████████████████▋     | 1.8MB 12.6MB/s eta 0:00:01\r\u001B[K     |██████████████████████████▊     | 1.8MB 12.6MB/s eta 0:00:01\r\u001B[K     |██████████████████████████▉     | 1.8MB 12.6MB/s eta 0:00:01\r\u001B[K     |███████████████████████████     | 1.8MB 12.6MB/s eta 0:00:01\r\u001B[K     |███████████████████████████▏    | 1.8MB 12.6MB/s eta 0:00:01\r\u001B[K     |███████████████████████████▎    | 1.8MB 12.6MB/s eta 0:00:01\r\u001B[K     |███████████████████████████▌    | 1.8MB 12.6MB/s eta 0:00:01\r\u001B[K     |███████████████████████████▋    | 1.9MB 12.6MB/s eta 0:00:01\r\u001B[K     |███████████████████████████▉    | 1.9MB 12.6MB/s eta 0:00:01\r\u001B[K     |████████████████████████████    | 1.9MB 12.6MB/s eta 0:00:01\r\u001B[K     |████████████████████████████    | 1.9MB 12.6MB/s eta 0:00:01\r\u001B[K     |████████████████████████████▎   | 1.9MB 12.6MB/s eta 0:00:01\r\u001B[K     |████████████████████████████▍   | 1.9MB 12.6MB/s eta 0:00:01\r\u001B[K     |████████████████████████████▌   | 1.9MB 12.6MB/s eta 0:00:01\r\u001B[K     |████████████████████████████▊   | 1.9MB 12.6MB/s eta 0:00:01\r\u001B[K     |████████████████████████████▉   | 1.9MB 12.6MB/s eta 0:00:01\r\u001B[K     |█████████████████████████████   | 1.9MB 12.6MB/s eta 0:00:01\r\u001B[K     |█████████████████████████████▏  | 2.0MB 12.6MB/s eta 0:00:01\r\u001B[K     |█████████████████████████████▎  | 2.0MB 12.6MB/s eta 0:00:01\r\u001B[K     |█████████████████████████████▌  | 2.0MB 12.6MB/s eta 0:00:01\r\u001B[K     |█████████████████████████████▋  | 2.0MB 12.6MB/s eta 0:00:01\r\u001B[K     |█████████████████████████████▊  | 2.0MB 12.6MB/s eta 0:00:01\r\u001B[K     |██████████████████████████████  | 2.0MB 12.6MB/s eta 0:00:01\r\u001B[K     |██████████████████████████████  | 2.0MB 12.6MB/s eta 0:00:01\r\u001B[K     |██████████████████████████████▎ | 2.0MB 12.6MB/s eta 0:00:01\r\u001B[K     |██████████████████████████████▍ | 2.0MB 12.6MB/s eta 0:00:01\r\u001B[K     |██████████████████████████████▌ | 2.0MB 12.6MB/s eta 0:00:01\r\u001B[K     |██████████████████████████████▊ | 2.1MB 12.6MB/s eta 0:00:01\r\u001B[K     |██████████████████████████████▉ | 2.1MB 12.6MB/s eta 0:00:01\r\u001B[K     |███████████████████████████████ | 2.1MB 12.6MB/s eta 0:00:01\r\u001B[K     |███████████████████████████████▏| 2.1MB 12.6MB/s eta 0:00:01\r\u001B[K     |███████████████████████████████▎| 2.1MB 12.6MB/s eta 0:00:01\r\u001B[K     |███████████████████████████████▌| 2.1MB 12.6MB/s eta 0:00:01\r\u001B[K     |███████████████████████████████▋| 2.1MB 12.6MB/s eta 0:00:01\r\u001B[K     |███████████████████████████████▊| 2.1MB 12.6MB/s eta 0:00:01\r\u001B[K     |████████████████████████████████| 2.1MB 12.6MB/s eta 0:00:01\r\u001B[K     |████████████████████████████████| 2.2MB 12.6MB/s \n",
      "\u001B[?25hRequirement already satisfied: importlib-metadata; python_version < \"3.8\" in /usr/local/lib/python3.7/dist-packages (from transformers) (3.8.1)\n",
      "Requirement already satisfied: numpy>=1.17 in /usr/local/lib/python3.7/dist-packages (from transformers) (1.19.5)\n",
      "Requirement already satisfied: regex!=2019.12.17 in /usr/local/lib/python3.7/dist-packages (from transformers) (2019.12.20)\n",
      "Requirement already satisfied: tqdm>=4.27 in /usr/local/lib/python3.7/dist-packages (from transformers) (4.41.1)\n",
      "Requirement already satisfied: packaging in /usr/local/lib/python3.7/dist-packages (from transformers) (20.9)\n",
      "Collecting tokenizers<0.11,>=0.10.1\n",
      "\u001B[?25l  Downloading https://files.pythonhosted.org/packages/ae/04/5b870f26a858552025a62f1649c20d29d2672c02ff3c3fb4c688ca46467a/tokenizers-0.10.2-cp37-cp37m-manylinux2010_x86_64.whl (3.3MB)\n",
      "\u001B[K     |████████████████████████████████| 3.3MB 62.8MB/s \n",
      "\u001B[?25hRequirement already satisfied: requests in /usr/local/lib/python3.7/dist-packages (from transformers) (2.23.0)\n",
      "Requirement already satisfied: filelock in /usr/local/lib/python3.7/dist-packages (from transformers) (3.0.12)\n",
      "Collecting sacremoses\n",
      "\u001B[?25l  Downloading https://files.pythonhosted.org/packages/08/cd/342e584ee544d044fb573ae697404ce22ede086c9e87ce5960772084cad0/sacremoses-0.0.44.tar.gz (862kB)\n",
      "\u001B[K     |████████████████████████████████| 870kB 56.4MB/s \n",
      "\u001B[?25hRequirement already satisfied: typing-extensions>=3.6.4; python_version < \"3.8\" in /usr/local/lib/python3.7/dist-packages (from importlib-metadata; python_version < \"3.8\"->transformers) (3.7.4.3)\n",
      "Requirement already satisfied: zipp>=0.5 in /usr/local/lib/python3.7/dist-packages (from importlib-metadata; python_version < \"3.8\"->transformers) (3.4.1)\n",
      "Requirement already satisfied: pyparsing>=2.0.2 in /usr/local/lib/python3.7/dist-packages (from packaging->transformers) (2.4.7)\n",
      "Requirement already satisfied: certifi>=2017.4.17 in /usr/local/lib/python3.7/dist-packages (from requests->transformers) (2020.12.5)\n",
      "Requirement already satisfied: chardet<4,>=3.0.2 in /usr/local/lib/python3.7/dist-packages (from requests->transformers) (3.0.4)\n",
      "Requirement already satisfied: urllib3!=1.25.0,!=1.25.1,<1.26,>=1.21.1 in /usr/local/lib/python3.7/dist-packages (from requests->transformers) (1.24.3)\n",
      "Requirement already satisfied: idna<3,>=2.5 in /usr/local/lib/python3.7/dist-packages (from requests->transformers) (2.10)\n",
      "Requirement already satisfied: six in /usr/local/lib/python3.7/dist-packages (from sacremoses->transformers) (1.15.0)\n",
      "Requirement already satisfied: click in /usr/local/lib/python3.7/dist-packages (from sacremoses->transformers) (7.1.2)\n",
      "Requirement already satisfied: joblib in /usr/local/lib/python3.7/dist-packages (from sacremoses->transformers) (1.0.1)\n",
      "Building wheels for collected packages: sacremoses\n",
      "  Building wheel for sacremoses (setup.py) ... \u001B[?25l\u001B[?25hdone\n",
      "  Created wheel for sacremoses: filename=sacremoses-0.0.44-cp37-none-any.whl size=886084 sha256=44d7a29e3099a1aa1cb4086e7b366b4461294985d9f3bf70f2668873e5acafb4\n",
      "  Stored in directory: /root/.cache/pip/wheels/3e/fb/c0/13ab4d63d537658f448366744654323077c4d90069b6512f3c\n",
      "Successfully built sacremoses\n",
      "Installing collected packages: tokenizers, sacremoses, transformers\n",
      "Successfully installed sacremoses-0.0.44 tokenizers-0.10.2 transformers-4.5.0\n"
     ],
     "name": "stdout"
    }
   ]
  },
  {
   "cell_type": "code",
   "metadata": {
    "id": "bH89boyR8xMe"
   },
   "source": [
    "import json\n",
    "import numpy as np\n",
    "import pandas as pd\n",
    "import random\n",
    "import requests\n",
    "from sklearn.metrics import f1_score, accuracy_score, classification_report\n",
    "import time\n",
    "import transformers\n",
    "from transformers import BertTokenizer, BertForSequenceClassification, AdamW, get_linear_schedule_with_warmup\n",
    "import torch\n",
    "import torch.nn as nn\n",
    "from torch.utils.data import Dataset, TensorDataset, DataLoader, RandomSampler, SequentialSampler\n",
    "\n",
    "import nltk\n",
    "from nltk.corpus import stopwords, wordnet\n",
    "from nltk.stem import WordNetLemmatizer"
   ],
   "execution_count": 27,
   "outputs": []
  },
  {
   "cell_type": "code",
   "metadata": {
    "id": "YvijqpDgSdrG"
   },
   "source": [
    "# Setting random seed and device\n",
    "SEED = 42\n",
    "\n",
    "random.seed(SEED)\n",
    "np.random.seed(SEED)\n",
    "torch.manual_seed(SEED)\n",
    "torch.cuda.manual_seed(SEED)\n",
    "torch.backends.cudnn.deterministic = True\n",
    "\n",
    "use_cuda = torch.cuda.is_available()\n",
    "device = torch.device(\"cuda:0\" if use_cuda else \"cpu\")"
   ],
   "execution_count": 3,
   "outputs": []
  },
  {
   "cell_type": "markdown",
   "metadata": {
    "id": "acNz10pHhN2o"
   },
   "source": [
    "### Utils"
   ]
  },
  {
   "cell_type": "code",
   "metadata": {
    "id": "GOjS9Y-7hJG6"
   },
   "source": [
    "import os, sys\n",
    "\n",
    "class HiddenPrints:\n",
    "    def __enter__(self):\n",
    "        self._original_stdout = sys.stdout\n",
    "        sys.stdout = open(os.devnull, 'w')\n",
    "\n",
    "    def __exit__(self, exc_type, exc_val, exc_tb):\n",
    "        sys.stdout = self._original_stdout"
   ],
   "execution_count": 4,
   "outputs": []
  },
  {
   "cell_type": "markdown",
   "metadata": {
    "id": "xdQJh_Gspywv"
   },
   "source": [
    "### Loading data"
   ]
  },
  {
   "cell_type": "code",
   "metadata": {
    "id": "_Ltm1AzQ5P2p"
   },
   "source": [
    "corpus_url = 'https://raw.githubusercontent.com/fawazshah/News-Media-Reliability/master/data/emnlp18/corpus-modified.tsv'\n",
    "\n",
    "corpus = pd.read_csv(corpus_url, sep='\\t')\n",
    "urls = corpus['source_url_normalized'].values\n",
    "\n",
    "# Ground truths\n",
    "biases = corpus['bias'].values"
   ],
   "execution_count": 5,
   "outputs": []
  },
  {
   "cell_type": "code",
   "metadata": {
    "id": "3aljGD_19QdV"
   },
   "source": [
    "article_data_json_url = 'https://raw.githubusercontent.com/fawazshah/News-Media-Reliability/master/data/scraped_articles_1654.json'\n",
    "\n",
    "r = requests.get(article_data_json_url)\n",
    "article_data = r.json()"
   ],
   "execution_count": 7,
   "outputs": []
  },
  {
   "cell_type": "code",
   "metadata": {
    "id": "PcqkrRXyw58K"
   },
   "source": [
    "all_data_df = pd.DataFrame(columns=['article headline', 'article body', 'publish date', 'bias'])\n",
    "\n",
    "news_sources_scraped = 0\n",
    "\n",
    "for row in corpus.itertuples():\n",
    "    url = row.source_url_normalized\n",
    "    bias = row.bias\n",
    "    if article_data[\"newspapers\"][url] is not None:\n",
    "        articles = article_data[\"newspapers\"][url].get(\"articles\", [])\n",
    "        if len(articles) > 0:\n",
    "            news_sources_scraped += 1\n",
    "            for article in articles:\n",
    "                all_data_df = all_data_df.append({'article headline': article['title'],\n",
    "                                                  'article body': article['text'],\n",
    "                                                  'publish date': article['published'],\n",
    "                                                  'bias': bias}, ignore_index=True)\n",
    "\n",
    "all_data_df['publish date'] = pd.to_datetime(all_data_df['publish date'], utc=True).dt.date"
   ],
   "execution_count": 49,
   "outputs": []
  },
  {
   "cell_type": "code",
   "metadata": {
    "colab": {
     "base_uri": "https://localhost:8080/",
     "height": 419
    },
    "id": "o8iAM1Mb1-Mr",
    "outputId": "51529208-7553-4d1f-c82a-d28be163ebd7"
   },
   "source": [
    "all_data_df"
   ],
   "execution_count": 50,
   "outputs": [
    {
     "output_type": "execute_result",
     "data": {
      "text/html": [
       "<div>\n",
       "<style scoped>\n",
       "    .dataframe tbody tr th:only-of-type {\n",
       "        vertical-align: middle;\n",
       "    }\n",
       "\n",
       "    .dataframe tbody tr th {\n",
       "        vertical-align: top;\n",
       "    }\n",
       "\n",
       "    .dataframe thead th {\n",
       "        text-align: right;\n",
       "    }\n",
       "</style>\n",
       "<table border=\"1\" class=\"dataframe\">\n",
       "  <thead>\n",
       "    <tr style=\"text-align: right;\">\n",
       "      <th></th>\n",
       "      <th>article headline</th>\n",
       "      <th>article body</th>\n",
       "      <th>publish date</th>\n",
       "      <th>bias</th>\n",
       "    </tr>\n",
       "  </thead>\n",
       "  <tbody>\n",
       "    <tr>\n",
       "      <th>0</th>\n",
       "      <td>On the Ground at the Inauguration: The Only Th...</td>\n",
       "      <td>Will Sennott\\n\\nWEDNESDAY, JANUARY 20, 2021, W...</td>\n",
       "      <td>2021-01-22</td>\n",
       "      <td>left</td>\n",
       "    </tr>\n",
       "    <tr>\n",
       "      <th>1</th>\n",
       "      <td>Under President Biden, Will the Yankees Return...</td>\n",
       "      <td>Thurman Munson and Reggie Jackson in 1977 From...</td>\n",
       "      <td>2021-01-21</td>\n",
       "      <td>left</td>\n",
       "    </tr>\n",
       "    <tr>\n",
       "      <th>2</th>\n",
       "      <td>Gun Rights Absolutists Celebrate Martin Luther...</td>\n",
       "      <td>Will Sennott\\n\\nMONDAY, JANUARY 18, 2021, RICH...</td>\n",
       "      <td>2021-01-19</td>\n",
       "      <td>left</td>\n",
       "    </tr>\n",
       "    <tr>\n",
       "      <th>3</th>\n",
       "      <td>Thugs in Blue</td>\n",
       "      <td>THE BEAT GOES ON … AND ON\\n\\nOnce Again, Polic...</td>\n",
       "      <td>2021-01-07</td>\n",
       "      <td>left</td>\n",
       "    </tr>\n",
       "    <tr>\n",
       "      <th>4</th>\n",
       "      <td>HELL YEAH! Sheriff Clark Publicly DISEMBOWELS ...</td>\n",
       "      <td>Al Sharpton always has had a couple screws loo...</td>\n",
       "      <td>2017-01-13</td>\n",
       "      <td>right</td>\n",
       "    </tr>\n",
       "    <tr>\n",
       "      <th>...</th>\n",
       "      <td>...</td>\n",
       "      <td>...</td>\n",
       "      <td>...</td>\n",
       "      <td>...</td>\n",
       "    </tr>\n",
       "    <tr>\n",
       "      <th>1649</th>\n",
       "      <td>UK Educators Rank-and-File Safety Committee di...</td>\n",
       "      <td>The UK Educators Rank-and-File Safety Committe...</td>\n",
       "      <td>2021-01-26</td>\n",
       "      <td>left</td>\n",
       "    </tr>\n",
       "    <tr>\n",
       "      <th>1650</th>\n",
       "      <td>Make It Sing</td>\n",
       "      <td>Before I lay into the Democrats for missed opp...</td>\n",
       "      <td>2021-01-17</td>\n",
       "      <td>left</td>\n",
       "    </tr>\n",
       "    <tr>\n",
       "      <th>1651</th>\n",
       "      <td>Bill Maher: The SPIN Interview</td>\n",
       "      <td>If you care at all about democracy and the way...</td>\n",
       "      <td>2021-01-15</td>\n",
       "      <td>left</td>\n",
       "    </tr>\n",
       "    <tr>\n",
       "      <th>1652</th>\n",
       "      <td>Stephan Jenkins on What Culture Truly Means</td>\n",
       "      <td>“When bad men combine, the good must associate...</td>\n",
       "      <td>2020-06-22</td>\n",
       "      <td>left</td>\n",
       "    </tr>\n",
       "    <tr>\n",
       "      <th>1653</th>\n",
       "      <td>Emergence Is Interactive: A Jeff Bridges and S...</td>\n",
       "      <td>Jeff Bridges is an Academy Award-winning actor...</td>\n",
       "      <td>2020-06-16</td>\n",
       "      <td>left</td>\n",
       "    </tr>\n",
       "  </tbody>\n",
       "</table>\n",
       "<p>1654 rows × 4 columns</p>\n",
       "</div>"
      ],
      "text/plain": [
       "                                       article headline  ...   bias\n",
       "0     On the Ground at the Inauguration: The Only Th...  ...   left\n",
       "1     Under President Biden, Will the Yankees Return...  ...   left\n",
       "2     Gun Rights Absolutists Celebrate Martin Luther...  ...   left\n",
       "3                                         Thugs in Blue  ...   left\n",
       "4     HELL YEAH! Sheriff Clark Publicly DISEMBOWELS ...  ...  right\n",
       "...                                                 ...  ...    ...\n",
       "1649  UK Educators Rank-and-File Safety Committee di...  ...   left\n",
       "1650                                       Make It Sing  ...   left\n",
       "1651                     Bill Maher: The SPIN Interview  ...   left\n",
       "1652        Stephan Jenkins on What Culture Truly Means  ...   left\n",
       "1653  Emergence Is Interactive: A Jeff Bridges and S...  ...   left\n",
       "\n",
       "[1654 rows x 4 columns]"
      ]
     },
     "metadata": {
      "tags": []
     },
     "execution_count": 50
    }
   ]
  },
  {
   "cell_type": "markdown",
   "metadata": {
    "id": "E3tI0VYup1RN"
   },
   "source": [
    "### Text preprocessing"
   ]
  },
  {
   "cell_type": "code",
   "metadata": {
    "colab": {
     "base_uri": "https://localhost:8080/"
    },
    "id": "Bx8wTRfPI5jm",
    "outputId": "75c43977-76fd-4e92-93b6-e872169accd6"
   },
   "source": [
    "# Text preprocessing preparation\n",
    "\n",
    "stop_words = [\"the\", \"a\", \"an\", \"as\", \"this\", \"that\", \"is\", \"and\", \"or\", \"on\",\n",
    "              \"at\", \"to\", \"in\", \"by\", \"than\", \"of\", \"for\", \"be\", \"i\", \"you\", \n",
    "              \"he\", \"she\", \"his\", \"her\", \"do\", \"it\", \"with\"]\n",
    "\n",
    "def nltk_tag_to_wordnet_tag(nltk_tag):\n",
    "    if nltk_tag.startswith('J'):\n",
    "        return wordnet.ADJ\n",
    "    elif nltk_tag.startswith('V'):\n",
    "        return wordnet.VERB\n",
    "    elif nltk_tag.startswith('N'):\n",
    "        return wordnet.NOUN\n",
    "    elif nltk_tag.startswith('R'):\n",
    "        return wordnet.ADV\n",
    "    else:          \n",
    "        return None\n",
    "\n",
    "nltk.download('wordnet')\n",
    "\n",
    "# required for tokenization\n",
    "nltk.download('punkt')\n",
    "\n",
    "# required for POS tagging\n",
    "nltk.download('averaged_perceptron_tagger')\n",
    "\n",
    "lemmatizer = WordNetLemmatizer()"
   ],
   "execution_count": null,
   "outputs": [
    {
     "output_type": "stream",
     "text": [
      "[nltk_data] Downloading package wordnet to /root/nltk_data...\n",
      "[nltk_data]   Package wordnet is already up-to-date!\n",
      "[nltk_data] Downloading package punkt to /root/nltk_data...\n",
      "[nltk_data]   Package punkt is already up-to-date!\n",
      "[nltk_data] Downloading package averaged_perceptron_tagger to\n",
      "[nltk_data]     /root/nltk_data...\n",
      "[nltk_data]   Package averaged_perceptron_tagger is already up-to-\n",
      "[nltk_data]       date!\n"
     ],
     "name": "stdout"
    }
   ]
  },
  {
   "cell_type": "code",
   "metadata": {
    "id": "M_vUJWRoo8uy"
   },
   "source": [
    "# Text preprocessing performed on both article headline and article body\n",
    "\n",
    "def preprocess(sentence):\n",
    "\n",
    "    # Lowercase\n",
    "    sentence = sentence.lower()\n",
    "\n",
    "    # Punctuation, whitespace removal\n",
    "    punctuations = '''!()-—[]{};:'\"“”‘’\\,<>./?@#$%^&*_~'''\n",
    "    whitespace = '''\\n\\t'''\n",
    "\n",
    "    for ch in sentence: \n",
    "        if ch in punctuations: \n",
    "            sentence = sentence.replace(ch, \"\")\n",
    "        if ch in whitespace:\n",
    "            sentence = sentence.replace(ch, \" \")\n",
    "\n",
    "    # Stop word removal\n",
    "    remaining_words = []\n",
    "    \n",
    "    for word in sentence.split():\n",
    "        if word not in stop_words:\n",
    "            remaining_words.append(word)\n",
    "\n",
    "    sentence = \" \".join(remaining_words)\n",
    "\n",
    "    # Lemmatization\n",
    "    lemmatized_words = []\n",
    "\n",
    "    # In order to lemmatise we must first POS-tag each sentence\n",
    "    tokens = nltk.word_tokenize(sentence)\n",
    "    tagged = nltk.pos_tag(tokens)\n",
    "\n",
    "    for word, tag in tagged:\n",
    "        pos = nltk_tag_to_wordnet_tag(tag) \n",
    "        if pos is not None:\n",
    "            word = lemmatizer.lemmatize(word, pos=pos)\n",
    "\n",
    "        lemmatized_words.append(word)\n",
    "\n",
    "    sentence = \" \".join(lemmatized_words)\n",
    "    \n",
    "    return sentence"
   ],
   "execution_count": null,
   "outputs": []
  },
  {
   "cell_type": "code",
   "metadata": {
    "colab": {
     "base_uri": "https://localhost:8080/"
    },
    "id": "3U6E9s6rRbxK",
    "outputId": "f42d28d6-a7c8-4846-939e-93b5195bc295"
   },
   "source": [
    "start = time.time()\n",
    "all_data_df['article headline'] = all_data_df['article headline'].apply(preprocess)\n",
    "print(f\"Preprocessing headlines took {time.time() - start} seconds\")\n",
    "\n",
    "start = time.time()\n",
    "all_data_df['article body'] = all_data_df['article body'].apply(preprocess)\n",
    "print(f\"Preprocessing article bodies took {time.time() - start} seconds\")"
   ],
   "execution_count": null,
   "outputs": [
    {
     "output_type": "stream",
     "text": [
      "Preprocessing headlines took 1.1521203517913818 seconds\n",
      "Preprocessing article bodies took 53.263824701309204 seconds\n"
     ],
     "name": "stdout"
    }
   ]
  },
  {
   "cell_type": "code",
   "metadata": {
    "id": "Q95veuSydbIW"
   },
   "source": [
    "# Encode labels as numbers\n",
    "# center == 0\n",
    "# left == 1\n",
    "# right == 2\n",
    "\n",
    "def encode_labels(label):\n",
    "    if label == \"center\":\n",
    "        return 0\n",
    "    elif label == \"left\":\n",
    "        return 1\n",
    "    else:\n",
    "        return 2\n",
    "\n",
    "all_data_df['bias'] = all_data_df['bias'].apply(encode_labels)"
   ],
   "execution_count": null,
   "outputs": []
  },
  {
   "cell_type": "code",
   "metadata": {
    "colab": {
     "base_uri": "https://localhost:8080/",
     "height": 419
    },
    "id": "hrG0UQFthSVb",
    "outputId": "fd733e0d-86e1-4421-ce85-ba8809237fa4"
   },
   "source": [
    "all_data_df"
   ],
   "execution_count": null,
   "outputs": [
    {
     "output_type": "execute_result",
     "data": {
      "text/html": [
       "<div>\n",
       "<style scoped>\n",
       "    .dataframe tbody tr th:only-of-type {\n",
       "        vertical-align: middle;\n",
       "    }\n",
       "\n",
       "    .dataframe tbody tr th {\n",
       "        vertical-align: top;\n",
       "    }\n",
       "\n",
       "    .dataframe thead th {\n",
       "        text-align: right;\n",
       "    }\n",
       "</style>\n",
       "<table border=\"1\" class=\"dataframe\">\n",
       "  <thead>\n",
       "    <tr style=\"text-align: right;\">\n",
       "      <th></th>\n",
       "      <th>article headline</th>\n",
       "      <th>article body</th>\n",
       "      <th>bias</th>\n",
       "    </tr>\n",
       "  </thead>\n",
       "  <tbody>\n",
       "    <tr>\n",
       "      <th>0</th>\n",
       "      <td>ground inauguration only thing see be hope</td>\n",
       "      <td>will sennott wednesday january 20 2021 washing...</td>\n",
       "      <td>1</td>\n",
       "    </tr>\n",
       "    <tr>\n",
       "      <th>1</th>\n",
       "      <td>under president biden will yankees return thei...</td>\n",
       "      <td>thurman munson reggie jackson 1977 from villag...</td>\n",
       "      <td>1</td>\n",
       "    </tr>\n",
       "    <tr>\n",
       "      <th>2</th>\n",
       "      <td>gun right absolutists celebrate martin luther ...</td>\n",
       "      <td>will sennott monday january 18 2021 richmond v...</td>\n",
       "      <td>1</td>\n",
       "    </tr>\n",
       "    <tr>\n",
       "      <th>3</th>\n",
       "      <td>thug blue</td>\n",
       "      <td>beat go … once again police pummel plan reform...</td>\n",
       "      <td>1</td>\n",
       "    </tr>\n",
       "    <tr>\n",
       "      <th>4</th>\n",
       "      <td>hell yeah sheriff clark publicly disembowel ra...</td>\n",
       "      <td>al sharpton always have have couple screw loos...</td>\n",
       "      <td>2</td>\n",
       "    </tr>\n",
       "    <tr>\n",
       "      <th>...</th>\n",
       "      <td>...</td>\n",
       "      <td>...</td>\n",
       "      <td>...</td>\n",
       "    </tr>\n",
       "    <tr>\n",
       "      <th>1649</th>\n",
       "      <td>uk educator rankandfile safety committee discu...</td>\n",
       "      <td>uk educator rankandfile safety committee meeti...</td>\n",
       "      <td>1</td>\n",
       "    </tr>\n",
       "    <tr>\n",
       "      <th>1650</th>\n",
       "      <td>make sing</td>\n",
       "      <td>before lay into democrat miss opportunity hous...</td>\n",
       "      <td>1</td>\n",
       "    </tr>\n",
       "    <tr>\n",
       "      <th>1651</th>\n",
       "      <td>bill maher spin interview</td>\n",
       "      <td>if care all about democracy way our world work...</td>\n",
       "      <td>1</td>\n",
       "    </tr>\n",
       "    <tr>\n",
       "      <th>1652</th>\n",
       "      <td>stephan jenkins what culture truly mean</td>\n",
       "      <td>when bad men combine good must associate else ...</td>\n",
       "      <td>1</td>\n",
       "    </tr>\n",
       "    <tr>\n",
       "      <th>1653</th>\n",
       "      <td>emergence interactive jeff bridge susan kucera...</td>\n",
       "      <td>jeff bridge academy awardwinning actor susan k...</td>\n",
       "      <td>1</td>\n",
       "    </tr>\n",
       "  </tbody>\n",
       "</table>\n",
       "<p>1654 rows × 3 columns</p>\n",
       "</div>"
      ],
      "text/plain": [
       "                                       article headline  ... bias\n",
       "0            ground inauguration only thing see be hope  ...    1\n",
       "1     under president biden will yankees return thei...  ...    1\n",
       "2     gun right absolutists celebrate martin luther ...  ...    1\n",
       "3                                             thug blue  ...    1\n",
       "4     hell yeah sheriff clark publicly disembowel ra...  ...    2\n",
       "...                                                 ...  ...  ...\n",
       "1649  uk educator rankandfile safety committee discu...  ...    1\n",
       "1650                                          make sing  ...    1\n",
       "1651                          bill maher spin interview  ...    1\n",
       "1652            stephan jenkins what culture truly mean  ...    1\n",
       "1653  emergence interactive jeff bridge susan kucera...  ...    1\n",
       "\n",
       "[1654 rows x 3 columns]"
      ]
     },
     "metadata": {
      "tags": []
     },
     "execution_count": 83
    }
   ]
  },
  {
   "cell_type": "markdown",
   "metadata": {
    "id": "0CtZd7-n1tJ_"
   },
   "source": [
    "### Selecting beginning vs middle vs end of body text"
   ]
  },
  {
   "cell_type": "code",
   "metadata": {
    "id": "4Zd_FYtjNUdk"
   },
   "source": [
    "def get_middle_512(sentence):\n",
    "    toks = sentence.split()\n",
    "    midpoint = len(toks) // 2\n",
    "    return ' '.join(toks[midpoint:midpoint+512])"
   ],
   "execution_count": null,
   "outputs": []
  },
  {
   "cell_type": "code",
   "metadata": {
    "id": "2wr8LfoON_8u"
   },
   "source": [
    "def get_end_512(sentence):\n",
    "    toks = sentence.split()\n",
    "    return ' '.join(toks[-512:])"
   ],
   "execution_count": null,
   "outputs": []
  },
  {
   "cell_type": "code",
   "metadata": {
    "id": "HMo_ORFzaw3W"
   },
   "source": [
    "# \"BEGINNING\" is true by default i.e. BERT will just truncate the body to the first 512 tokens\n",
    "MIDDLE = False\n",
    "END = False\n",
    "\n",
    "if MIDDLE:\n",
    "    all_data_df['article body'] = all_data_df['article body'].apply(get_middle_512)\n",
    "elif END:\n",
    "    all_data_df['article body'] = all_data_df['article body'].apply(get_end_512)"
   ],
   "execution_count": null,
   "outputs": []
  },
  {
   "cell_type": "code",
   "metadata": {
    "colab": {
     "base_uri": "https://localhost:8080/",
     "height": 419
    },
    "id": "RTPFc64fhOd6",
    "outputId": "98a91397-252f-46f0-eba3-3b130422e580"
   },
   "source": [
    "all_data_df"
   ],
   "execution_count": null,
   "outputs": [
    {
     "output_type": "execute_result",
     "data": {
      "text/html": [
       "<div>\n",
       "<style scoped>\n",
       "    .dataframe tbody tr th:only-of-type {\n",
       "        vertical-align: middle;\n",
       "    }\n",
       "\n",
       "    .dataframe tbody tr th {\n",
       "        vertical-align: top;\n",
       "    }\n",
       "\n",
       "    .dataframe thead th {\n",
       "        text-align: right;\n",
       "    }\n",
       "</style>\n",
       "<table border=\"1\" class=\"dataframe\">\n",
       "  <thead>\n",
       "    <tr style=\"text-align: right;\">\n",
       "      <th></th>\n",
       "      <th>article headline</th>\n",
       "      <th>article body</th>\n",
       "      <th>bias</th>\n",
       "    </tr>\n",
       "  </thead>\n",
       "  <tbody>\n",
       "    <tr>\n",
       "      <th>0</th>\n",
       "      <td>ground inauguration only thing see be hope</td>\n",
       "      <td>will sennott wednesday january 20 2021 washing...</td>\n",
       "      <td>1</td>\n",
       "    </tr>\n",
       "    <tr>\n",
       "      <th>1</th>\n",
       "      <td>under president biden will yankees return thei...</td>\n",
       "      <td>thurman munson reggie jackson 1977 from villag...</td>\n",
       "      <td>1</td>\n",
       "    </tr>\n",
       "    <tr>\n",
       "      <th>2</th>\n",
       "      <td>gun right absolutists celebrate martin luther ...</td>\n",
       "      <td>will sennott monday january 18 2021 richmond v...</td>\n",
       "      <td>1</td>\n",
       "    </tr>\n",
       "    <tr>\n",
       "      <th>3</th>\n",
       "      <td>thug blue</td>\n",
       "      <td>beat go … once again police pummel plan reform...</td>\n",
       "      <td>1</td>\n",
       "    </tr>\n",
       "    <tr>\n",
       "      <th>4</th>\n",
       "      <td>hell yeah sheriff clark publicly disembowel ra...</td>\n",
       "      <td>al sharpton always have have couple screw loos...</td>\n",
       "      <td>2</td>\n",
       "    </tr>\n",
       "    <tr>\n",
       "      <th>...</th>\n",
       "      <td>...</td>\n",
       "      <td>...</td>\n",
       "      <td>...</td>\n",
       "    </tr>\n",
       "    <tr>\n",
       "      <th>1649</th>\n",
       "      <td>uk educator rankandfile safety committee discu...</td>\n",
       "      <td>uk educator rankandfile safety committee meeti...</td>\n",
       "      <td>1</td>\n",
       "    </tr>\n",
       "    <tr>\n",
       "      <th>1650</th>\n",
       "      <td>make sing</td>\n",
       "      <td>before lay into democrat miss opportunity hous...</td>\n",
       "      <td>1</td>\n",
       "    </tr>\n",
       "    <tr>\n",
       "      <th>1651</th>\n",
       "      <td>bill maher spin interview</td>\n",
       "      <td>if care all about democracy way our world work...</td>\n",
       "      <td>1</td>\n",
       "    </tr>\n",
       "    <tr>\n",
       "      <th>1652</th>\n",
       "      <td>stephan jenkins what culture truly mean</td>\n",
       "      <td>when bad men combine good must associate else ...</td>\n",
       "      <td>1</td>\n",
       "    </tr>\n",
       "    <tr>\n",
       "      <th>1653</th>\n",
       "      <td>emergence interactive jeff bridge susan kucera...</td>\n",
       "      <td>jeff bridge academy awardwinning actor susan k...</td>\n",
       "      <td>1</td>\n",
       "    </tr>\n",
       "  </tbody>\n",
       "</table>\n",
       "<p>1654 rows × 3 columns</p>\n",
       "</div>"
      ],
      "text/plain": [
       "                                       article headline  ... bias\n",
       "0            ground inauguration only thing see be hope  ...    1\n",
       "1     under president biden will yankees return thei...  ...    1\n",
       "2     gun right absolutists celebrate martin luther ...  ...    1\n",
       "3                                             thug blue  ...    1\n",
       "4     hell yeah sheriff clark publicly disembowel ra...  ...    2\n",
       "...                                                 ...  ...  ...\n",
       "1649  uk educator rankandfile safety committee discu...  ...    1\n",
       "1650                                          make sing  ...    1\n",
       "1651                          bill maher spin interview  ...    1\n",
       "1652            stephan jenkins what culture truly mean  ...    1\n",
       "1653  emergence interactive jeff bridge susan kucera...  ...    1\n",
       "\n",
       "[1654 rows x 3 columns]"
      ]
     },
     "metadata": {
      "tags": []
     },
     "execution_count": 87
    }
   ]
  },
  {
   "cell_type": "markdown",
   "metadata": {
    "id": "1VeQKS27CAvO"
   },
   "source": [
    "### Resampling"
   ]
  },
  {
   "cell_type": "code",
   "metadata": {
    "id": "EJONI2tRGRyi"
   },
   "source": [
    "RESAMPLE = False"
   ],
   "execution_count": null,
   "outputs": []
  },
  {
   "cell_type": "code",
   "metadata": {
    "id": "ZGgA4zrUes86",
    "colab": {
     "base_uri": "https://localhost:8080/"
    },
    "outputId": "43c360d9-4c81-43b1-98c1-b5d9eb1c82b5"
   },
   "source": [
    "# Distribution before\n",
    "print(all_data_df['bias'].value_counts())"
   ],
   "execution_count": null,
   "outputs": [
    {
     "output_type": "stream",
     "text": [
      "2    657\n",
      "0    567\n",
      "1    430\n",
      "Name: bias, dtype: int64\n"
     ],
     "name": "stdout"
    }
   ]
  },
  {
   "cell_type": "code",
   "metadata": {
    "id": "ywujXHINCEjZ"
   },
   "source": [
    "count_2, count_0, count_1 = all_data_df['bias'].value_counts()"
   ],
   "execution_count": null,
   "outputs": []
  },
  {
   "cell_type": "code",
   "metadata": {
    "id": "mtl22FVPCnZr"
   },
   "source": [
    "all_data_0 = all_data_df[all_data_df['bias'] == 0]\n",
    "all_data_1 = all_data_df[all_data_df['bias'] == 1]\n",
    "all_data_2 = all_data_df[all_data_df['bias'] == 2]\n",
    "\n",
    "# Undersample class 0 and 2 to match class 1\n",
    "\n",
    "all_data_0_under = all_data_0.sample(count_1)\n",
    "all_data_2_under = all_data_2.sample(count_1)\n",
    "\n",
    "if RESAMPLE:\n",
    "    all_data_df = pd.concat([all_data_1, all_data_0_under, all_data_2_under])"
   ],
   "execution_count": null,
   "outputs": []
  },
  {
   "cell_type": "code",
   "metadata": {
    "colab": {
     "base_uri": "https://localhost:8080/"
    },
    "id": "fhp4XKotDdWM",
    "outputId": "94c1427d-c388-4aa3-8039-c7aa85bc69c6"
   },
   "source": [
    "# Distribution after\n",
    "print(all_data_df['bias'].value_counts())"
   ],
   "execution_count": null,
   "outputs": [
    {
     "output_type": "stream",
     "text": [
      "2    657\n",
      "0    567\n",
      "1    430\n",
      "Name: bias, dtype: int64\n"
     ],
     "name": "stdout"
    }
   ]
  },
  {
   "cell_type": "code",
   "metadata": {
    "colab": {
     "base_uri": "https://localhost:8080/",
     "height": 419
    },
    "id": "nlw6MBB_lsoV",
    "outputId": "4c76b206-eda7-4e8b-ff01-01b4a59bee29"
   },
   "source": [
    "# Shuffle rows in dataset to mix classes up again\n",
    "all_data_df = all_data_df.sample(frac=1, random_state=1)\n",
    "all_data_df.reset_index(drop=True)"
   ],
   "execution_count": null,
   "outputs": [
    {
     "output_type": "execute_result",
     "data": {
      "text/html": [
       "<div>\n",
       "<style scoped>\n",
       "    .dataframe tbody tr th:only-of-type {\n",
       "        vertical-align: middle;\n",
       "    }\n",
       "\n",
       "    .dataframe tbody tr th {\n",
       "        vertical-align: top;\n",
       "    }\n",
       "\n",
       "    .dataframe thead th {\n",
       "        text-align: right;\n",
       "    }\n",
       "</style>\n",
       "<table border=\"1\" class=\"dataframe\">\n",
       "  <thead>\n",
       "    <tr style=\"text-align: right;\">\n",
       "      <th></th>\n",
       "      <th>article headline</th>\n",
       "      <th>article body</th>\n",
       "      <th>bias</th>\n",
       "    </tr>\n",
       "  </thead>\n",
       "  <tbody>\n",
       "    <tr>\n",
       "      <th>0</th>\n",
       "      <td>bidens america one nation us versus them</td>\n",
       "      <td>be real our history have be constant struggle ...</td>\n",
       "      <td>2</td>\n",
       "    </tr>\n",
       "    <tr>\n",
       "      <th>1</th>\n",
       "      <td>how get covid19 vaccine miamidade broward</td>\n",
       "      <td>online earlier anticipated slot week fill up w...</td>\n",
       "      <td>1</td>\n",
       "    </tr>\n",
       "    <tr>\n",
       "      <th>2</th>\n",
       "      <td>arm mob storm capitol building during electora...</td>\n",
       "      <td>presidential election its truly stunning heres...</td>\n",
       "      <td>1</td>\n",
       "    </tr>\n",
       "    <tr>\n",
       "      <th>3</th>\n",
       "      <td>frontier ebook release january 2021</td>\n",
       "      <td>free download share distribute shape future yo...</td>\n",
       "      <td>0</td>\n",
       "    </tr>\n",
       "    <tr>\n",
       "      <th>4</th>\n",
       "      <td>change date vaccine news angry cricket coach</td>\n",
       "      <td>day news live from budgy smuggler booth</td>\n",
       "      <td>0</td>\n",
       "    </tr>\n",
       "    <tr>\n",
       "      <th>...</th>\n",
       "      <td>...</td>\n",
       "      <td>...</td>\n",
       "      <td>...</td>\n",
       "    </tr>\n",
       "    <tr>\n",
       "      <th>1649</th>\n",
       "      <td>legal liability loom orgs behind rally incite ...</td>\n",
       "      <td>involve but also people who organize who fundr...</td>\n",
       "      <td>1</td>\n",
       "    </tr>\n",
       "    <tr>\n",
       "      <th>1650</th>\n",
       "      <td>merck france pasteur institute end development...</td>\n",
       "      <td>least last may several other pharmaceutical co...</td>\n",
       "      <td>0</td>\n",
       "    </tr>\n",
       "    <tr>\n",
       "      <th>1651</th>\n",
       "      <td>anthony mackie responsibility message captain ...</td>\n",
       "      <td>marketing we be r have overdo so they can just...</td>\n",
       "      <td>1</td>\n",
       "    </tr>\n",
       "    <tr>\n",
       "      <th>1652</th>\n",
       "      <td>union just get rare bit good news from supreme...</td>\n",
       "      <td>agency fee be common solution freerider proble...</td>\n",
       "      <td>1</td>\n",
       "    </tr>\n",
       "    <tr>\n",
       "      <th>1653</th>\n",
       "      <td>florida new hq maga movement</td>\n",
       "      <td>him team say political consultant former trump...</td>\n",
       "      <td>2</td>\n",
       "    </tr>\n",
       "  </tbody>\n",
       "</table>\n",
       "<p>1654 rows × 3 columns</p>\n",
       "</div>"
      ],
      "text/plain": [
       "                                       article headline  ... bias\n",
       "0              bidens america one nation us versus them  ...    2\n",
       "1             how get covid19 vaccine miamidade broward  ...    1\n",
       "2     arm mob storm capitol building during electora...  ...    1\n",
       "3                   frontier ebook release january 2021  ...    0\n",
       "4          change date vaccine news angry cricket coach  ...    0\n",
       "...                                                 ...  ...  ...\n",
       "1649  legal liability loom orgs behind rally incite ...  ...    1\n",
       "1650  merck france pasteur institute end development...  ...    0\n",
       "1651  anthony mackie responsibility message captain ...  ...    1\n",
       "1652  union just get rare bit good news from supreme...  ...    1\n",
       "1653                       florida new hq maga movement  ...    2\n",
       "\n",
       "[1654 rows x 3 columns]"
      ]
     },
     "metadata": {
      "tags": []
     },
     "execution_count": 58
    }
   ]
  },
  {
   "cell_type": "markdown",
   "metadata": {
    "id": "BJQIBfL3QrW1"
   },
   "source": [
    "### Counting frequency of names in dataset"
   ]
  },
  {
   "cell_type": "code",
   "metadata": {
    "id": "Bi6frzCaQJal",
    "colab": {
     "base_uri": "https://localhost:8080/"
    },
    "outputId": "7807d61c-6ccb-4f78-f59c-1f39ed5117ca"
   },
   "source": [
    "print(all_data_df['article headline'].str.count(\"biden\").sum())\n",
    "print(all_data_df['article body'].str.count(\"biden\").sum())"
   ],
   "execution_count": null,
   "outputs": [
    {
     "output_type": "stream",
     "text": [
      "153\n",
      "1058\n"
     ],
     "name": "stdout"
    }
   ]
  },
  {
   "cell_type": "code",
   "metadata": {
    "id": "tdmBjTamQxM3",
    "colab": {
     "base_uri": "https://localhost:8080/"
    },
    "outputId": "ab59cbed-769b-42e6-8294-bd909af8db9d"
   },
   "source": [
    "print(all_data_df['article headline'].str.count(\"trump\").sum())\n",
    "print(all_data_df['article body'].str.count(\"trump\").sum())"
   ],
   "execution_count": null,
   "outputs": [
    {
     "output_type": "stream",
     "text": [
      "211\n",
      "1798\n"
     ],
     "name": "stdout"
    }
   ]
  },
  {
   "cell_type": "markdown",
   "metadata": {
    "id": "CCS4LqNqpw-0"
   },
   "source": [
    "### Split data into train/val/test"
   ]
  },
  {
   "cell_type": "code",
   "metadata": {
    "id": "JovkiS3eRCwV"
   },
   "source": [
    "# Train/val/test split\n",
    "\n",
    "TRAIN = 0.7\n",
    "VAL = 0.1\n",
    "TEST = 0.2"
   ],
   "execution_count": null,
   "outputs": []
  },
  {
   "cell_type": "code",
   "metadata": {
    "id": "_PsSza_RQsh8"
   },
   "source": [
    "split_point_1 = int(TRAIN*len(all_data_df))\n",
    "split_point_2 = int((TRAIN+VAL)*len(all_data_df))\n",
    "\n",
    "all_data_train_df = all_data_df.iloc[:split_point_1].copy()\n",
    "all_data_val_df = all_data_df.iloc[split_point_1:split_point_2].copy()\n",
    "all_data_test_df = all_data_df.iloc[split_point_2:].copy()"
   ],
   "execution_count": null,
   "outputs": []
  },
  {
   "cell_type": "code",
   "metadata": {
    "colab": {
     "base_uri": "https://localhost:8080/"
    },
    "id": "hv18NbamsoT8",
    "outputId": "f8023582-12f7-4fc1-ae85-a7d099067887"
   },
   "source": [
    "print(f\"Size of training set: {len(all_data_train_df)}\")\n",
    "print(f\"Size of validation set: {len(all_data_val_df)}\")\n",
    "print(f\"Size of test set: {len(all_data_test_df)}\")"
   ],
   "execution_count": null,
   "outputs": [
    {
     "output_type": "stream",
     "text": [
      "Size of training set: 1157\n",
      "Size of validation set: 166\n",
      "Size of test set: 331\n"
     ],
     "name": "stdout"
    }
   ]
  },
  {
   "cell_type": "markdown",
   "metadata": {
    "id": "YRvLmb5gjsqW"
   },
   "source": [
    "### BERT setup"
   ]
  },
  {
   "cell_type": "code",
   "metadata": {
    "id": "Z-qdjK0sTCvE"
   },
   "source": [
    "loss_fn = nn.CrossEntropyLoss()\n",
    "loss_fn = loss_fn.to(device)"
   ],
   "execution_count": null,
   "outputs": []
  },
  {
   "cell_type": "code",
   "metadata": {
    "id": "noOaI7TwFfO2",
    "colab": {
     "base_uri": "https://localhost:8080/",
     "height": 164,
     "referenced_widgets": [
      "3a9376c4cbd54a8baca5b67eed2d9524",
      "846c43d565f7460a840bef7141681e68",
      "0df709b351e140b6acbc3950716bbcc6",
      "b123b079c65b41f0a423cc5a330bd55b",
      "7b3425c616d444409011eb3893d94363",
      "4bc4c57bcd24479fa96fe611ebeeff0e",
      "5c0b6e3310bf49bcb325ca8b1479fc83",
      "3b3f1f8dca8c4922b2edeef5598625e9",
      "ab05aad904f74d0e8bd3f1681895a79c",
      "d9edc6d0e4a94020994f47a146f234da",
      "86d5f6088bb144d284b838d0d3900989",
      "c866ff42bdf245b1ba8dd2bacd348288",
      "5eef8e01f06c441188fbf187b4bac3b8",
      "b2ede0d594e64eb1b70b99cd80a005e3",
      "847ec0ec69bb4bb3a712480bb350c401",
      "e392117e41e946e19461369380fa9ace",
      "41e04b6d361046228c6f84e74752119e",
      "5412d7168a634acaba36a1193e135fc8",
      "e7064fe9778a411289937d7616cccd4a",
      "2857ec800834434a9bf22adef35efb32",
      "39d515f207e149ce9cfd9e992ddf163f",
      "4143fef7a33e4cf7b24ffb909727615b",
      "ea02facf2f51406396635b8acaccaf41",
      "fc0b703ee98c4d4fbfe6e5e0ed3bbf16"
     ]
    },
    "outputId": "036f98e0-3316-4cf5-b1d9-78e1485c5cb7"
   },
   "source": [
    "tokenizer = BertTokenizer.from_pretrained('bert-base-uncased')"
   ],
   "execution_count": null,
   "outputs": [
    {
     "output_type": "display_data",
     "data": {
      "application/vnd.jupyter.widget-view+json": {
       "model_id": "3a9376c4cbd54a8baca5b67eed2d9524",
       "version_minor": 0,
       "version_major": 2
      },
      "text/plain": [
       "HBox(children=(FloatProgress(value=0.0, description='Downloading', max=231508.0, style=ProgressStyle(descripti…"
      ]
     },
     "metadata": {
      "tags": []
     }
    },
    {
     "output_type": "stream",
     "text": [
      "\n"
     ],
     "name": "stdout"
    },
    {
     "output_type": "display_data",
     "data": {
      "application/vnd.jupyter.widget-view+json": {
       "model_id": "ab05aad904f74d0e8bd3f1681895a79c",
       "version_minor": 0,
       "version_major": 2
      },
      "text/plain": [
       "HBox(children=(FloatProgress(value=0.0, description='Downloading', max=28.0, style=ProgressStyle(description_w…"
      ]
     },
     "metadata": {
      "tags": []
     }
    },
    {
     "output_type": "stream",
     "text": [
      "\n"
     ],
     "name": "stdout"
    },
    {
     "output_type": "display_data",
     "data": {
      "application/vnd.jupyter.widget-view+json": {
       "model_id": "41e04b6d361046228c6f84e74752119e",
       "version_minor": 0,
       "version_major": 2
      },
      "text/plain": [
       "HBox(children=(FloatProgress(value=0.0, description='Downloading', max=466062.0, style=ProgressStyle(descripti…"
      ]
     },
     "metadata": {
      "tags": []
     }
    },
    {
     "output_type": "stream",
     "text": [
      "\n"
     ],
     "name": "stdout"
    }
   ]
  },
  {
   "cell_type": "code",
   "metadata": {
    "id": "RdMOKYheI2rI"
   },
   "source": [
    "# Compute the length of the longest sentence in particular column out of\n",
    "# all train, val and test data\n",
    "def compute_max_length(df, bert_input_func):\n",
    "\n",
    "  sentences = bert_input_func(df)\n",
    "\n",
    "  max_len = 0\n",
    "\n",
    "  for sent in sentences:\n",
    "\n",
    "      # Tokenize the text and add `[CLS]` and `[SEP]` tokens.\n",
    "      input_ids = tokenizer.encode(sent, add_special_tokens=True)\n",
    "\n",
    "      # Update the maximum sentence length.\n",
    "      max_len = max(max_len, len(input_ids))\n",
    "\n",
    "  return max_len"
   ],
   "execution_count": null,
   "outputs": []
  },
  {
   "cell_type": "code",
   "metadata": {
    "id": "YEMs7pJ0VmFU"
   },
   "source": [
    "def compute_sentences_headline(df):\n",
    "    return df['article headline'].values\n",
    "\n",
    "def compute_sentences_body(df):\n",
    "    return df['article body'].values\n",
    "\n",
    "def compute_sentences_headline_body(df):\n",
    "    return [a + \" [SEP] \" + b\n",
    "        for a, b in \n",
    "        zip(\n",
    "            df['article headline'].values, \n",
    "            df['article body'].values, \n",
    "        )]\n",
    "\n",
    "BERT_INPUTS = [\n",
    "    {\n",
    "        'name': 'headlines',\n",
    "        'func': compute_sentences_headline,\n",
    "        'max_len': compute_max_length(all_data_df, compute_sentences_headline)\n",
    "    },\n",
    "    {\n",
    "        'name': 'bodies',\n",
    "        'func': compute_sentences_body,\n",
    "        'max_len': 512 # Max body length is always longer than 512\n",
    "    },\n",
    "    {\n",
    "        'name': 'headlines + bodies',\n",
    "        'func': compute_sentences_headline_body,\n",
    "        'max_len': 512\n",
    "    },\n",
    "]"
   ],
   "execution_count": null,
   "outputs": []
  },
  {
   "cell_type": "code",
   "metadata": {
    "id": "47kpzdncrYs_"
   },
   "source": [
    "def create_bert_dataset(df, bert_input_func, max_sequence_len):\n",
    "    # Returns a TensorDataset of sequences extracted from df\n",
    "\n",
    "    token_ids = []\n",
    "    token_type_ids = [] # segment ids \n",
    "    attention_masks = []\n",
    "\n",
    "    sentences = bert_input_func(df)\n",
    "\n",
    "    for sent in sentences:\n",
    "        encoding_dict = tokenizer(sent,\n",
    "                                  add_special_tokens=True,\n",
    "                                  max_length=max_sequence_len,\n",
    "                                  padding='max_length',\n",
    "                                  truncation=True,\n",
    "                                  return_token_type_ids = True,\n",
    "                                  return_attention_mask = True,\n",
    "                                  return_tensors = 'pt'\n",
    "                                  )\n",
    "        token_ids.append(encoding_dict['input_ids'])\n",
    "        token_type_ids.append(encoding_dict['token_type_ids'])\n",
    "        attention_masks.append(encoding_dict['attention_mask'])\n",
    "    \n",
    "    token_ids = torch.cat(token_ids, dim=0)\n",
    "    token_type_ids = torch.cat(token_type_ids, dim=0)\n",
    "    attention_masks = torch.cat(attention_masks, dim=0)\n",
    "    labels = torch.tensor(df['bias'].values)\n",
    "    \n",
    "    return TensorDataset(token_ids, token_type_ids, attention_masks, labels)"
   ],
   "execution_count": null,
   "outputs": []
  },
  {
   "cell_type": "code",
   "metadata": {
    "id": "0uysrdNBJx0G"
   },
   "source": [
    "def train_BERT(train_dataloader, val_dataloader, model, number_epoch):\n",
    "\n",
    "    train_loss = []\n",
    "    valid_loss = []\n",
    "\n",
    "    optimizer = AdamW(model.parameters(),\n",
    "                    lr = 2e-5, \n",
    "                    eps = 1e-8 \n",
    "                )\n",
    "\n",
    "    # Create the learning rate scheduler.\n",
    "    total_steps = len(train_dataloader) * number_epoch\n",
    "    scheduler = get_linear_schedule_with_warmup(optimizer, num_warmup_steps=0, \n",
    "                                                num_training_steps=total_steps)\n",
    "\n",
    "    for epoch in range(1, number_epoch+1):\n",
    "\n",
    "        # TRAINING\n",
    "\n",
    "        time0 = time.time()\n",
    "\n",
    "        model.train()\n",
    "\n",
    "        epoch_train_loss = 0\n",
    "        no_observations = 0\n",
    "        epoch_train_predictions = []\n",
    "        epoch_train_labels = []\n",
    "\n",
    "        for batch in train_dataloader:\n",
    "\n",
    "            # Each batch contains token ids, token type ids, attention masks and labels\n",
    "            b_token_ids = batch[0].to(device)\n",
    "            b_token_type_ids = batch[1].to(device)\n",
    "            b_attention_masks = batch[2].to(device)\n",
    "            b_labels = batch[3].to(device)\n",
    "\n",
    "            no_observations = no_observations + b_labels.shape[0]\n",
    "            \n",
    "            output = model(b_token_ids, \n",
    "                    token_type_ids=b_token_type_ids, \n",
    "                    attention_mask=b_attention_masks, \n",
    "                    labels=b_labels)\n",
    "\n",
    "            model.zero_grad()\n",
    "\n",
    "            loss = output.loss\n",
    "            logits = output.logits\n",
    "\n",
    "            predictions = np.argmax(logits.detach().cpu().numpy(), axis=1)\n",
    "            labels = b_labels.detach().cpu().numpy()\n",
    "            epoch_train_predictions.extend(predictions)\n",
    "            epoch_train_labels.extend(labels)\n",
    "\n",
    "            loss.backward()\n",
    "            # Clip the norm of the gradients to 1 to prevent exploding gradients\n",
    "            torch.nn.utils.clip_grad_norm_(model.parameters(), 1.0)\n",
    "            optimizer.step() \n",
    "\n",
    "            # Update the learning rate using the scheduler\n",
    "            scheduler.step()  \n",
    "\n",
    "            epoch_train_loss += loss.item()*b_labels.shape[0]\n",
    "\n",
    "        epoch_train_loss, epoch_train_acc = epoch_train_loss / no_observations, accuracy_score(epoch_train_labels, epoch_train_predictions)\n",
    "\n",
    "        # VALIDATION\n",
    "\n",
    "        epoch_valid_loss, epoch_val_predictions, epoch_val_labels = evaluate_BERT(val_dataloader, model)\n",
    "        epoch_valid_acc = accuracy_score(epoch_val_labels, epoch_val_predictions)\n",
    "\n",
    "        # FINALLY\n",
    "\n",
    "        print(f\"Epoch took: {time.time() - time0}\")\n",
    "\n",
    "        print(f'| Epoch: {epoch:02} | Train Loss: {epoch_train_loss:.2f} | Train Accuracy: {epoch_train_acc:.2f} | \\\n",
    "        Val. Loss: {epoch_valid_loss:.2f} | Val. Accuracy: {epoch_valid_acc:.2f} |')\n",
    "\n",
    "        train_loss.append(epoch_train_loss)\n",
    "        valid_loss.append(epoch_valid_loss)\n",
    "    \n",
    "    return train_loss, valid_loss"
   ],
   "execution_count": null,
   "outputs": []
  },
  {
   "cell_type": "code",
   "metadata": {
    "id": "Dxb6dGkmRLky"
   },
   "source": [
    "def evaluate_BERT(test_dataloader, model):\n",
    "\n",
    "    model.eval()\n",
    "    total_loss = 0\n",
    "    no_observations = 0\n",
    "    predictions_all = []\n",
    "    labels_all = []\n",
    "\n",
    "    with torch.no_grad():\n",
    "        for batch in test_dataloader:\n",
    "            b_token_ids = batch[0].to(device)\n",
    "            b_token_type_ids = batch[1].to(device)\n",
    "            b_attention_masks = batch[2].to(device)\n",
    "            b_labels = batch[3].to(device)\n",
    "\n",
    "            no_observations += b_labels.shape[0]\n",
    "            output = model(b_token_ids, token_type_ids=b_token_type_ids, \n",
    "                                        attention_mask=b_attention_masks)\n",
    "            logits = output.logits\n",
    "            loss = loss_fn(logits, b_labels)\n",
    "\n",
    "            predictions = np.argmax(logits.detach().cpu().numpy(), axis=1)\n",
    "            labels = b_labels.detach().cpu().numpy()\n",
    "            predictions_all.extend(predictions)\n",
    "            labels_all.extend(labels)\n",
    "\n",
    "            total_loss += loss.item()*b_labels.shape[0]\n",
    "    \n",
    "    return total_loss / no_observations, predictions_all, labels_all"
   ],
   "execution_count": null,
   "outputs": []
  },
  {
   "cell_type": "markdown",
   "metadata": {
    "id": "BFoWJPkpQIw6"
   },
   "source": [
    "### Create BERT dataloaders"
   ]
  },
  {
   "cell_type": "code",
   "metadata": {
    "id": "pkTXZ-jxQOXn"
   },
   "source": [
    "dataloaders = {}\n",
    "BATCH_SIZE = 10"
   ],
   "execution_count": null,
   "outputs": []
  },
  {
   "cell_type": "code",
   "metadata": {
    "id": "xefnAsZO59ZV"
   },
   "source": [
    "# Note we manually shuffled the dataset earlier, so we can use SequentialSampler to\n",
    "# sample instead of RandomSampler during training\n",
    "\n",
    "for bert_input in BERT_INPUTS:\n",
    "\n",
    "    # Using all data\n",
    "    dataloaders[bert_input['name']] = {}\n",
    "    dataloaders[bert_input['name']]['all_data'] = {}\n",
    "    train_dataset = create_bert_dataset(all_data_train_df, bert_input['func'], bert_input['max_len'])\n",
    "    dataloaders[bert_input['name']]['all_data']['train'] = DataLoader(train_dataset, sampler=SequentialSampler(train_dataset), batch_size=BATCH_SIZE)\n",
    "    val_dataset = create_bert_dataset(all_data_val_df, bert_input['func'], bert_input['max_len'])\n",
    "    dataloaders[bert_input['name']]['all_data']['val'] = DataLoader(val_dataset, sampler=SequentialSampler(val_dataset), batch_size=BATCH_SIZE)\n",
    "    test_dataset = create_bert_dataset(all_data_test_df, bert_input['func'], bert_input['max_len'])\n",
    "    dataloaders[bert_input['name']]['all_data']['test'] = DataLoader(test_dataset, sampler=SequentialSampler(test_dataset), batch_size=BATCH_SIZE)"
   ],
   "execution_count": null,
   "outputs": []
  },
  {
   "cell_type": "markdown",
   "metadata": {
    "id": "UNOh7mC0Y9Pj"
   },
   "source": [
    "### Run BERT models"
   ]
  },
  {
   "cell_type": "code",
   "metadata": {
    "id": "A6wsRrIpZF9A"
   },
   "source": [
    "NUM_EPOCHS = 4"
   ],
   "execution_count": null,
   "outputs": []
  },
  {
   "cell_type": "code",
   "metadata": {
    "id": "ponCV4YPQ0gl",
    "colab": {
     "base_uri": "https://localhost:8080/",
     "height": 1000,
     "referenced_widgets": [
      "0b36df9c78fe41d49c2f40405dd5da2e",
      "783f1f8de82941e487bd7e688a834aee",
      "de94b168089f400689688c604824ba83",
      "f9b8a9601a8f488dbec9299d59e564a2",
      "f802a29f76964d55b73d90a3832e8362",
      "296fc14ffa274343a18b154ea0530382",
      "1c8a7772cc4f4222b042f8719a9f67d6",
      "7f8204acce344850b4bcb70a2126127d",
      "0eef057a94c0408da3dc19f18ec9799d",
      "e445210c6ef24685ae71e93523e589c3",
      "bc63c442c7b4409682d99bc8f2ba8ce1",
      "8016601cfa9a4c88bad2ac851d5fafca",
      "e875bb1f0d6e4a0ab91d8416999bdc21",
      "9b210110049f4b1ab685abe2c50a83d3",
      "2578b45ac5484b4996ee24939b3b5682",
      "638ef540a72842b895343d5d35d90247"
     ]
    },
    "outputId": "57c184be-c48e-442f-b171-7e3375b9bb68"
   },
   "source": [
    "# Evaluate BERT on non-folded data\n",
    "\n",
    "for bert_input in BERT_INPUTS:\n",
    "\n",
    "    print(f\"---------\")\n",
    "    print(f\"{bert_input['name'].upper()}\")\n",
    "    print(f\"---------\")\n",
    "\n",
    "    # Set up a new BERT model\n",
    "    model = BertForSequenceClassification.from_pretrained(\n",
    "        'bert-base-uncased',\n",
    "        num_labels=3,\n",
    "        output_attentions = False,\n",
    "        output_hidden_states = False,\n",
    "    )\n",
    "    model.cuda()\n",
    "\n",
    "    # Train model\n",
    "    train_dataloader = dataloaders[bert_input['name']]['all_data']['train']\n",
    "    val_dataloader = dataloaders[bert_input['name']]['all_data']['val']\n",
    "    train_loss, valid_loss = train_BERT(train_dataloader, val_dataloader, model, NUM_EPOCHS)\n",
    "\n",
    "    # Test model\n",
    "    test_dataloader = dataloaders[bert_input['name']]['all_data']['test']\n",
    "    _, predictions, labels = evaluate_BERT(test_dataloader, model)\n",
    "\n",
    "    print(classification_report(labels, predictions))\n"
   ],
   "execution_count": null,
   "outputs": [
    {
     "output_type": "stream",
     "text": [
      "---------\n",
      "HEADLINES\n",
      "---------\n"
     ],
     "name": "stdout"
    },
    {
     "output_type": "display_data",
     "data": {
      "application/vnd.jupyter.widget-view+json": {
       "model_id": "0b36df9c78fe41d49c2f40405dd5da2e",
       "version_minor": 0,
       "version_major": 2
      },
      "text/plain": [
       "HBox(children=(FloatProgress(value=0.0, description='Downloading', max=433.0, style=ProgressStyle(description_…"
      ]
     },
     "metadata": {
      "tags": []
     }
    },
    {
     "output_type": "stream",
     "text": [
      "\n"
     ],
     "name": "stdout"
    },
    {
     "output_type": "display_data",
     "data": {
      "application/vnd.jupyter.widget-view+json": {
       "model_id": "0eef057a94c0408da3dc19f18ec9799d",
       "version_minor": 0,
       "version_major": 2
      },
      "text/plain": [
       "HBox(children=(FloatProgress(value=0.0, description='Downloading', max=440473133.0, style=ProgressStyle(descri…"
      ]
     },
     "metadata": {
      "tags": []
     }
    },
    {
     "output_type": "stream",
     "text": [
      "\n"
     ],
     "name": "stdout"
    },
    {
     "output_type": "stream",
     "text": [
      "Some weights of the model checkpoint at bert-base-uncased were not used when initializing BertForSequenceClassification: ['cls.predictions.bias', 'cls.predictions.transform.dense.weight', 'cls.predictions.transform.dense.bias', 'cls.predictions.decoder.weight', 'cls.seq_relationship.weight', 'cls.seq_relationship.bias', 'cls.predictions.transform.LayerNorm.weight', 'cls.predictions.transform.LayerNorm.bias']\n",
      "- This IS expected if you are initializing BertForSequenceClassification from the checkpoint of a model trained on another task or with another architecture (e.g. initializing a BertForSequenceClassification model from a BertForPreTraining model).\n",
      "- This IS NOT expected if you are initializing BertForSequenceClassification from the checkpoint of a model that you expect to be exactly identical (initializing a BertForSequenceClassification model from a BertForSequenceClassification model).\n",
      "Some weights of BertForSequenceClassification were not initialized from the model checkpoint at bert-base-uncased and are newly initialized: ['classifier.weight', 'classifier.bias']\n",
      "You should probably TRAIN this model on a down-stream task to be able to use it for predictions and inference.\n"
     ],
     "name": "stderr"
    },
    {
     "output_type": "stream",
     "text": [
      "Epoch took: 15.49701452255249\n",
      "| Epoch: 01 | Train Loss: 1.06 | Train Accuracy: 0.45 |         Val. Loss: 0.99 | Val. Accuracy: 0.54 |\n",
      "Epoch took: 15.365787506103516\n",
      "| Epoch: 02 | Train Loss: 0.92 | Train Accuracy: 0.60 |         Val. Loss: 0.96 | Val. Accuracy: 0.57 |\n",
      "Epoch took: 15.36445140838623\n",
      "| Epoch: 03 | Train Loss: 0.73 | Train Accuracy: 0.71 |         Val. Loss: 0.93 | Val. Accuracy: 0.61 |\n",
      "Epoch took: 15.394659280776978\n",
      "| Epoch: 04 | Train Loss: 0.58 | Train Accuracy: 0.80 |         Val. Loss: 0.96 | Val. Accuracy: 0.58 |\n",
      "              precision    recall  f1-score   support\n",
      "\n",
      "           0       0.65      0.53      0.59       120\n",
      "           1       0.38      0.40      0.39        83\n",
      "           2       0.53      0.61      0.57       128\n",
      "\n",
      "    accuracy                           0.53       331\n",
      "   macro avg       0.52      0.51      0.51       331\n",
      "weighted avg       0.54      0.53      0.53       331\n",
      "\n",
      "---------\n",
      "BODIES\n",
      "---------\n"
     ],
     "name": "stdout"
    },
    {
     "output_type": "stream",
     "text": [
      "Some weights of the model checkpoint at bert-base-uncased were not used when initializing BertForSequenceClassification: ['cls.predictions.bias', 'cls.predictions.transform.dense.weight', 'cls.predictions.transform.dense.bias', 'cls.predictions.decoder.weight', 'cls.seq_relationship.weight', 'cls.seq_relationship.bias', 'cls.predictions.transform.LayerNorm.weight', 'cls.predictions.transform.LayerNorm.bias']\n",
      "- This IS expected if you are initializing BertForSequenceClassification from the checkpoint of a model trained on another task or with another architecture (e.g. initializing a BertForSequenceClassification model from a BertForPreTraining model).\n",
      "- This IS NOT expected if you are initializing BertForSequenceClassification from the checkpoint of a model that you expect to be exactly identical (initializing a BertForSequenceClassification model from a BertForSequenceClassification model).\n",
      "Some weights of BertForSequenceClassification were not initialized from the model checkpoint at bert-base-uncased and are newly initialized: ['classifier.weight', 'classifier.bias']\n",
      "You should probably TRAIN this model on a down-stream task to be able to use it for predictions and inference.\n"
     ],
     "name": "stderr"
    },
    {
     "output_type": "stream",
     "text": [
      "Epoch took: 68.55531048774719\n",
      "| Epoch: 01 | Train Loss: 1.07 | Train Accuracy: 0.45 |         Val. Loss: 0.99 | Val. Accuracy: 0.49 |\n",
      "Epoch took: 68.51694226264954\n",
      "| Epoch: 02 | Train Loss: 0.89 | Train Accuracy: 0.60 |         Val. Loss: 0.96 | Val. Accuracy: 0.54 |\n",
      "Epoch took: 68.54007720947266\n",
      "| Epoch: 03 | Train Loss: 0.69 | Train Accuracy: 0.72 |         Val. Loss: 0.97 | Val. Accuracy: 0.58 |\n",
      "Epoch took: 68.49965858459473\n",
      "| Epoch: 04 | Train Loss: 0.55 | Train Accuracy: 0.81 |         Val. Loss: 0.99 | Val. Accuracy: 0.57 |\n",
      "              precision    recall  f1-score   support\n",
      "\n",
      "           0       0.61      0.60      0.60       120\n",
      "           1       0.34      0.30      0.32        83\n",
      "           2       0.56      0.60      0.58       128\n",
      "\n",
      "    accuracy                           0.53       331\n",
      "   macro avg       0.50      0.50      0.50       331\n",
      "weighted avg       0.52      0.53      0.52       331\n",
      "\n",
      "---------\n",
      "HEADLINES + BODIES\n",
      "---------\n"
     ],
     "name": "stdout"
    },
    {
     "output_type": "stream",
     "text": [
      "Some weights of the model checkpoint at bert-base-uncased were not used when initializing BertForSequenceClassification: ['cls.predictions.bias', 'cls.predictions.transform.dense.weight', 'cls.predictions.transform.dense.bias', 'cls.predictions.decoder.weight', 'cls.seq_relationship.weight', 'cls.seq_relationship.bias', 'cls.predictions.transform.LayerNorm.weight', 'cls.predictions.transform.LayerNorm.bias']\n",
      "- This IS expected if you are initializing BertForSequenceClassification from the checkpoint of a model trained on another task or with another architecture (e.g. initializing a BertForSequenceClassification model from a BertForPreTraining model).\n",
      "- This IS NOT expected if you are initializing BertForSequenceClassification from the checkpoint of a model that you expect to be exactly identical (initializing a BertForSequenceClassification model from a BertForSequenceClassification model).\n",
      "Some weights of BertForSequenceClassification were not initialized from the model checkpoint at bert-base-uncased and are newly initialized: ['classifier.weight', 'classifier.bias']\n",
      "You should probably TRAIN this model on a down-stream task to be able to use it for predictions and inference.\n"
     ],
     "name": "stderr"
    },
    {
     "output_type": "stream",
     "text": [
      "Epoch took: 68.5475971698761\n",
      "| Epoch: 01 | Train Loss: 1.06 | Train Accuracy: 0.45 |         Val. Loss: 1.00 | Val. Accuracy: 0.52 |\n",
      "Epoch took: 68.52441382408142\n",
      "| Epoch: 02 | Train Loss: 0.92 | Train Accuracy: 0.56 |         Val. Loss: 1.07 | Val. Accuracy: 0.46 |\n",
      "Epoch took: 68.51956176757812\n",
      "| Epoch: 03 | Train Loss: 0.74 | Train Accuracy: 0.69 |         Val. Loss: 0.92 | Val. Accuracy: 0.60 |\n",
      "Epoch took: 68.51496911048889\n",
      "| Epoch: 04 | Train Loss: 0.58 | Train Accuracy: 0.79 |         Val. Loss: 0.91 | Val. Accuracy: 0.62 |\n",
      "              precision    recall  f1-score   support\n",
      "\n",
      "           0       0.65      0.67      0.66       120\n",
      "           1       0.49      0.33      0.39        83\n",
      "           2       0.57      0.68      0.62       128\n",
      "\n",
      "    accuracy                           0.59       331\n",
      "   macro avg       0.57      0.56      0.56       331\n",
      "weighted avg       0.58      0.59      0.58       331\n",
      "\n"
     ],
     "name": "stdout"
    }
   ]
  },
  {
   "cell_type": "markdown",
   "metadata": {
    "id": "8yX_n2Q8y7Ig"
   },
   "source": [
    "### Examining left vs center vs right (not in report yet)"
   ]
  },
  {
   "cell_type": "code",
   "metadata": {
    "id": "FPLM3RDSY7ds"
   },
   "source": [
    "left_df = all_data_df[all_data_df['bias'] == 1]\n",
    "center_df = all_data_df[all_data_df['bias'] == 0]\n",
    "right_df = all_data_df[all_data_df['bias'] == 2]"
   ],
   "execution_count": null,
   "outputs": []
  },
  {
   "cell_type": "code",
   "metadata": {
    "colab": {
     "base_uri": "https://localhost:8080/"
    },
    "id": "NXZr1pzHzAd5",
    "outputId": "b0034a43-4655-437a-89cf-722577b81767"
   },
   "source": [
    "# We train using article bodies since this gave highest accuracy in earlier \n",
    "# experiments\n",
    "\n",
    "model = BertForSequenceClassification.from_pretrained(\n",
    "    'bert-base-uncased',\n",
    "    num_labels=3,\n",
    "    output_attentions = False,\n",
    "    output_hidden_states = False,\n",
    ")\n",
    "model.cuda()\n",
    "\n",
    "# Train model\n",
    "train_dataloader = dataloaders['headlines']['all_data']['train']\n",
    "val_dataloader = dataloaders['headlines']['all_data']['val']\n",
    "train_loss, valid_loss = train_BERT(train_dataloader, val_dataloader, model, NUM_EPOCHS)"
   ],
   "execution_count": null,
   "outputs": [
    {
     "output_type": "stream",
     "text": [
      "Some weights of the model checkpoint at bert-base-uncased were not used when initializing BertForSequenceClassification: ['cls.predictions.bias', 'cls.predictions.transform.dense.weight', 'cls.predictions.transform.dense.bias', 'cls.predictions.decoder.weight', 'cls.seq_relationship.weight', 'cls.seq_relationship.bias', 'cls.predictions.transform.LayerNorm.weight', 'cls.predictions.transform.LayerNorm.bias']\n",
      "- This IS expected if you are initializing BertForSequenceClassification from the checkpoint of a model trained on another task or with another architecture (e.g. initializing a BertForSequenceClassification model from a BertForPreTraining model).\n",
      "- This IS NOT expected if you are initializing BertForSequenceClassification from the checkpoint of a model that you expect to be exactly identical (initializing a BertForSequenceClassification model from a BertForSequenceClassification model).\n",
      "Some weights of BertForSequenceClassification were not initialized from the model checkpoint at bert-base-uncased and are newly initialized: ['classifier.weight', 'classifier.bias']\n",
      "You should probably TRAIN this model on a down-stream task to be able to use it for predictions and inference.\n"
     ],
     "name": "stderr"
    },
    {
     "output_type": "stream",
     "text": [
      "Epoch took: 9.474628448486328\n",
      "| Epoch: 01 | Train Loss: 1.07 | Train Accuracy: 0.42 |         Val. Loss: 1.02 | Val. Accuracy: 0.49 |\n",
      "Epoch took: 9.492562055587769\n",
      "| Epoch: 02 | Train Loss: 0.91 | Train Accuracy: 0.58 |         Val. Loss: 1.01 | Val. Accuracy: 0.54 |\n",
      "Epoch took: 9.4595468044281\n",
      "| Epoch: 03 | Train Loss: 0.70 | Train Accuracy: 0.72 |         Val. Loss: 1.08 | Val. Accuracy: 0.58 |\n",
      "Epoch took: 9.436475992202759\n",
      "| Epoch: 04 | Train Loss: 0.54 | Train Accuracy: 0.80 |         Val. Loss: 1.07 | Val. Accuracy: 0.60 |\n"
     ],
     "name": "stdout"
    }
   ]
  },
  {
   "cell_type": "code",
   "metadata": {
    "id": "eTP_hj0dzliT"
   },
   "source": [
    "# Create dataloaders for left_df, center_df, right_df, based on just headline text\n",
    "\n",
    "left_dataset = create_bert_dataset(left_df, compute_sentences_headline, 512)\n",
    "left_dataloader = DataLoader(left_dataset, sampler=RandomSampler(left_dataset), batch_size=BATCH_SIZE)\n",
    "\n",
    "center_dataset = create_bert_dataset(center_df, compute_sentences_headline, 512)\n",
    "center_dataloader = DataLoader(center_dataset, sampler=RandomSampler(center_dataset), batch_size=BATCH_SIZE)\n",
    "\n",
    "right_dataset = create_bert_dataset(right_df, compute_sentences_headline, 512)\n",
    "right_dataloader = DataLoader(right_dataset, sampler=RandomSampler(right_dataset), batch_size=BATCH_SIZE)"
   ],
   "execution_count": null,
   "outputs": []
  },
  {
   "cell_type": "code",
   "metadata": {
    "colab": {
     "base_uri": "https://localhost:8080/"
    },
    "id": "nkpVYcm92eQZ",
    "outputId": "b81717ab-4402-4640-d388-5776958e04c2"
   },
   "source": [
    "_, predictions, labels = evaluate_BERT(left_dataloader, model)\n",
    "print(classification_report(labels, predictions))\n",
    "\n",
    "_, predictions, labels = evaluate_BERT(center_dataloader, model)\n",
    "print(classification_report(labels, predictions))\n",
    "\n",
    "_, predictions, labels = evaluate_BERT(right_dataloader, model)\n",
    "print(classification_report(labels, predictions))"
   ],
   "execution_count": null,
   "outputs": [
    {
     "output_type": "stream",
     "text": [
      "/usr/local/lib/python3.7/dist-packages/sklearn/metrics/_classification.py:1272: UndefinedMetricWarning: Recall and F-score are ill-defined and being set to 0.0 in labels with no true samples. Use `zero_division` parameter to control this behavior.\n",
      "  _warn_prf(average, modifier, msg_start, len(result))\n"
     ],
     "name": "stderr"
    },
    {
     "output_type": "stream",
     "text": [
      "              precision    recall  f1-score   support\n",
      "\n",
      "           0       0.00      0.00      0.00         0\n",
      "           1       1.00      0.57      0.73       430\n",
      "           2       0.00      0.00      0.00         0\n",
      "\n",
      "    accuracy                           0.57       430\n",
      "   macro avg       0.33      0.19      0.24       430\n",
      "weighted avg       1.00      0.57      0.73       430\n",
      "\n",
      "              precision    recall  f1-score   support\n",
      "\n",
      "           0       1.00      0.82      0.90       567\n",
      "           1       0.00      0.00      0.00         0\n",
      "           2       0.00      0.00      0.00         0\n",
      "\n",
      "    accuracy                           0.82       567\n",
      "   macro avg       0.33      0.27      0.30       567\n",
      "weighted avg       1.00      0.82      0.90       567\n",
      "\n",
      "              precision    recall  f1-score   support\n",
      "\n",
      "           0       0.00      0.00      0.00         0\n",
      "           1       0.00      0.00      0.00         0\n",
      "           2       1.00      0.87      0.93       657\n",
      "\n",
      "    accuracy                           0.87       657\n",
      "   macro avg       0.33      0.29      0.31       657\n",
      "weighted avg       1.00      0.87      0.93       657\n",
      "\n"
     ],
     "name": "stdout"
    }
   ]
  },
  {
   "cell_type": "code",
   "metadata": {
    "id": "9s-vJh3V2zgO"
   },
   "source": [
    ""
   ],
   "execution_count": null,
   "outputs": []
  }
 ]
}